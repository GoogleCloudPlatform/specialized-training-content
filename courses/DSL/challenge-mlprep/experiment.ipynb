{
  "cells": [
    {
      "cell_type": "markdown",
      "source": [
        "# Fraud Dectection model using sample data\n",
        "\n",
        "This notebook was built by the data science team to perform exploratory data analysis on sample data, prepare data for training a machine learning model, and train a model. Note that the model performance was inadequate due to the small data sample size and we will need to train the model on a larger dataset to build a successful model.\n",
        "\n",
        "## Prepare notebook environment"
      ],
      "metadata": {
        "id": "asZf6ZhUkYzM"
      },
      "id": "asZf6ZhUkYzM"
    },
    {
      "cell_type": "code",
      "id": "MDOgDgjkQC2HKSX8GeB91qCC",
      "metadata": {
        "tags": [],
        "id": "MDOgDgjkQC2HKSX8GeB91qCC",
        "executionInfo": {
          "status": "ok",
          "timestamp": 1729210475645,
          "user_tz": 240,
          "elapsed": 239,
          "user": {
            "displayName": "",
            "userId": ""
          }
        }
      },
      "source": [
        "'''\n",
        "Import necessary packages. This notebook was executed in Colab Enterprise,\n",
        "but should also work in Vertex AI Workbench.\n",
        "'''\n",
        "\n",
        "import numpy as np\n",
        "import pandas as pd\n",
        "import sklearn\n",
        "from tensorflow import keras\n",
        "import tensorflow as tf\n",
        "from tensorflow.keras.layers import (IntegerLookup, StringLookup,\n",
        "                                     Discretization, Concatenate, Reshape,\n",
        "                                     Hashing)\n"
      ],
      "execution_count": 6,
      "outputs": []
    },
    {
      "cell_type": "markdown",
      "source": [
        "The sample dataset has been placed in an accessible Cloud Storage for all member of our organization. Use `gcloud storage` to download the data to the local environment."
      ],
      "metadata": {
        "id": "hQUSH3G9lm44"
      },
      "id": "hQUSH3G9lm44"
    },
    {
      "cell_type": "code",
      "source": [
        "!gcloud storage cp gs://cloud-training/specialized-training/dsl_data/sample_preproc_data/sample_preproc_data-000000000000.csv ./transaction_sample_data.csv\n",
        "!ls"
      ],
      "metadata": {
        "colab": {
          "base_uri": "https://localhost:8080/"
        },
        "id": "Vrwk06karvEh",
        "executionInfo": {
          "status": "ok",
          "timestamp": 1729205102870,
          "user_tz": 240,
          "elapsed": 1673,
          "user": {
            "displayName": "",
            "userId": ""
          }
        },
        "outputId": "e224aa4c-1751-4898-d83c-2157cf2664c9"
      },
      "id": "Vrwk06karvEh",
      "execution_count": 3,
      "outputs": [
        {
          "output_type": "stream",
          "name": "stdout",
          "text": [
            "Copying gs://cloud-training/specialized-training/dsl_data/sample_preproc_data/sample_preproc_data-000000000000.csv to file://./transaction_sample_data.csv\n",
            "\n",
            "Average throughput: 80.2MiB/s\n",
            "sample_preproc_data-000000000000.csv  transaction_sample_data.csv\n"
          ]
        }
      ]
    },
    {
      "cell_type": "markdown",
      "source": [
        "Now load the `transaction_sample_data.csv` file into a Pandas DataFrame for exploration. We will also use this dataframe for preparing the dataset for training our model. To verify that the data was loaded correctly, print the columns of the DataFrame and use the `head` method to print the first 5 rows."
      ],
      "metadata": {
        "id": "qLnOA7OAqBki"
      },
      "id": "qLnOA7OAqBki"
    },
    {
      "cell_type": "code",
      "source": [
        "transaction_df = pd.read_csv('transaction_sample_data.csv')\n",
        "print(transaction_df.columns)\n",
        "transaction_df.head()"
      ],
      "metadata": {
        "colab": {
          "base_uri": "https://localhost:8080/",
          "height": 384
        },
        "id": "8Em8Be3ssE9l",
        "executionInfo": {
          "status": "ok",
          "timestamp": 1729210484544,
          "user_tz": 240,
          "elapsed": 225,
          "user": {
            "displayName": "",
            "userId": ""
          }
        },
        "outputId": "04623008-fbfb-431e-caed-2cc37fbec9cf"
      },
      "id": "8Em8Be3ssE9l",
      "execution_count": 7,
      "outputs": [
        {
          "output_type": "stream",
          "name": "stdout",
          "text": [
            "Index(['transactionId', 'step', 'action', 'amount', 'idOrig', 'oldBalanceOrig',\n",
            "       'newBalanceOrig', 'idDest', 'oldBalanceDest', 'newBalanceDest',\n",
            "       'isFraud', 'isFlaggedFraud', 'isUnauthorizedOverdraft', 'isSuccessful'],\n",
            "      dtype='object')\n"
          ]
        },
        {
          "output_type": "execute_result",
          "data": {
            "text/plain": [
              "         transactionId  step   action     amount            idOrig  \\\n",
              "0  3965218043302140042     8  CASH_IN  113125.42  4634145719191917   \n",
              "1  6433301868915579042     8  CASH_IN  172510.71  4194144307535595   \n",
              "2  1236279498399691042     8  CASH_IN   41745.38  4127948271207284   \n",
              "3  2033435769800131042     8  CASH_IN  102783.17  4767606703614122   \n",
              "4  1222980987545920042     8  CASH_IN  172283.43  4544168127926715   \n",
              "\n",
              "   oldBalanceOrig  newBalanceOrig      idDest  oldBalanceDest  newBalanceDest  \\\n",
              "0       504409.90       617535.32  34-0004077             0.0             0.0   \n",
              "1       106152.38       278663.09  03-0004474             0.0             0.0   \n",
              "2        63686.97       105432.35  58-0006829             0.0             0.0   \n",
              "3        63129.56       165912.72  01-0001723             0.0             0.0   \n",
              "4       829418.93      1001702.36  91-0003846             0.0             0.0   \n",
              "\n",
              "   isFraud  isFlaggedFraud  isUnauthorizedOverdraft  isSuccessful  \n",
              "0    False           False                    False         False  \n",
              "1    False           False                    False         False  \n",
              "2    False           False                    False         False  \n",
              "3    False           False                    False         False  \n",
              "4    False           False                    False         False  "
            ],
            "text/html": [
              "\n",
              "  <div id=\"df-937ef666-3d7b-4296-ada6-4c458288a3cb\" class=\"colab-df-container\">\n",
              "    <div>\n",
              "<style scoped>\n",
              "    .dataframe tbody tr th:only-of-type {\n",
              "        vertical-align: middle;\n",
              "    }\n",
              "\n",
              "    .dataframe tbody tr th {\n",
              "        vertical-align: top;\n",
              "    }\n",
              "\n",
              "    .dataframe thead th {\n",
              "        text-align: right;\n",
              "    }\n",
              "</style>\n",
              "<table border=\"1\" class=\"dataframe\">\n",
              "  <thead>\n",
              "    <tr style=\"text-align: right;\">\n",
              "      <th></th>\n",
              "      <th>transactionId</th>\n",
              "      <th>step</th>\n",
              "      <th>action</th>\n",
              "      <th>amount</th>\n",
              "      <th>idOrig</th>\n",
              "      <th>oldBalanceOrig</th>\n",
              "      <th>newBalanceOrig</th>\n",
              "      <th>idDest</th>\n",
              "      <th>oldBalanceDest</th>\n",
              "      <th>newBalanceDest</th>\n",
              "      <th>isFraud</th>\n",
              "      <th>isFlaggedFraud</th>\n",
              "      <th>isUnauthorizedOverdraft</th>\n",
              "      <th>isSuccessful</th>\n",
              "    </tr>\n",
              "  </thead>\n",
              "  <tbody>\n",
              "    <tr>\n",
              "      <th>0</th>\n",
              "      <td>3965218043302140042</td>\n",
              "      <td>8</td>\n",
              "      <td>CASH_IN</td>\n",
              "      <td>113125.42</td>\n",
              "      <td>4634145719191917</td>\n",
              "      <td>504409.90</td>\n",
              "      <td>617535.32</td>\n",
              "      <td>34-0004077</td>\n",
              "      <td>0.0</td>\n",
              "      <td>0.0</td>\n",
              "      <td>False</td>\n",
              "      <td>False</td>\n",
              "      <td>False</td>\n",
              "      <td>False</td>\n",
              "    </tr>\n",
              "    <tr>\n",
              "      <th>1</th>\n",
              "      <td>6433301868915579042</td>\n",
              "      <td>8</td>\n",
              "      <td>CASH_IN</td>\n",
              "      <td>172510.71</td>\n",
              "      <td>4194144307535595</td>\n",
              "      <td>106152.38</td>\n",
              "      <td>278663.09</td>\n",
              "      <td>03-0004474</td>\n",
              "      <td>0.0</td>\n",
              "      <td>0.0</td>\n",
              "      <td>False</td>\n",
              "      <td>False</td>\n",
              "      <td>False</td>\n",
              "      <td>False</td>\n",
              "    </tr>\n",
              "    <tr>\n",
              "      <th>2</th>\n",
              "      <td>1236279498399691042</td>\n",
              "      <td>8</td>\n",
              "      <td>CASH_IN</td>\n",
              "      <td>41745.38</td>\n",
              "      <td>4127948271207284</td>\n",
              "      <td>63686.97</td>\n",
              "      <td>105432.35</td>\n",
              "      <td>58-0006829</td>\n",
              "      <td>0.0</td>\n",
              "      <td>0.0</td>\n",
              "      <td>False</td>\n",
              "      <td>False</td>\n",
              "      <td>False</td>\n",
              "      <td>False</td>\n",
              "    </tr>\n",
              "    <tr>\n",
              "      <th>3</th>\n",
              "      <td>2033435769800131042</td>\n",
              "      <td>8</td>\n",
              "      <td>CASH_IN</td>\n",
              "      <td>102783.17</td>\n",
              "      <td>4767606703614122</td>\n",
              "      <td>63129.56</td>\n",
              "      <td>165912.72</td>\n",
              "      <td>01-0001723</td>\n",
              "      <td>0.0</td>\n",
              "      <td>0.0</td>\n",
              "      <td>False</td>\n",
              "      <td>False</td>\n",
              "      <td>False</td>\n",
              "      <td>False</td>\n",
              "    </tr>\n",
              "    <tr>\n",
              "      <th>4</th>\n",
              "      <td>1222980987545920042</td>\n",
              "      <td>8</td>\n",
              "      <td>CASH_IN</td>\n",
              "      <td>172283.43</td>\n",
              "      <td>4544168127926715</td>\n",
              "      <td>829418.93</td>\n",
              "      <td>1001702.36</td>\n",
              "      <td>91-0003846</td>\n",
              "      <td>0.0</td>\n",
              "      <td>0.0</td>\n",
              "      <td>False</td>\n",
              "      <td>False</td>\n",
              "      <td>False</td>\n",
              "      <td>False</td>\n",
              "    </tr>\n",
              "  </tbody>\n",
              "</table>\n",
              "</div>\n",
              "    <div class=\"colab-df-buttons\">\n",
              "\n",
              "  <div class=\"colab-df-container\">\n",
              "    <button class=\"colab-df-convert\" onclick=\"convertToInteractive('df-937ef666-3d7b-4296-ada6-4c458288a3cb')\"\n",
              "            title=\"Convert this dataframe to an interactive table.\"\n",
              "            style=\"display:none;\">\n",
              "\n",
              "  <svg xmlns=\"http://www.w3.org/2000/svg\" height=\"24px\" viewBox=\"0 -960 960 960\">\n",
              "    <path d=\"M120-120v-720h720v720H120Zm60-500h600v-160H180v160Zm220 220h160v-160H400v160Zm0 220h160v-160H400v160ZM180-400h160v-160H180v160Zm440 0h160v-160H620v160ZM180-180h160v-160H180v160Zm440 0h160v-160H620v160Z\"/>\n",
              "  </svg>\n",
              "    </button>\n",
              "\n",
              "  <style>\n",
              "    .colab-df-container {\n",
              "      display:flex;\n",
              "      gap: 12px;\n",
              "    }\n",
              "\n",
              "    .colab-df-convert {\n",
              "      background-color: #E8F0FE;\n",
              "      border: none;\n",
              "      border-radius: 50%;\n",
              "      cursor: pointer;\n",
              "      display: none;\n",
              "      fill: #1967D2;\n",
              "      height: 32px;\n",
              "      padding: 0 0 0 0;\n",
              "      width: 32px;\n",
              "    }\n",
              "\n",
              "    .colab-df-convert:hover {\n",
              "      background-color: #E2EBFA;\n",
              "      box-shadow: 0px 1px 2px rgba(60, 64, 67, 0.3), 0px 1px 3px 1px rgba(60, 64, 67, 0.15);\n",
              "      fill: #174EA6;\n",
              "    }\n",
              "\n",
              "    .colab-df-buttons div {\n",
              "      margin-bottom: 4px;\n",
              "    }\n",
              "\n",
              "    [theme=dark] .colab-df-convert {\n",
              "      background-color: #3B4455;\n",
              "      fill: #D2E3FC;\n",
              "    }\n",
              "\n",
              "    [theme=dark] .colab-df-convert:hover {\n",
              "      background-color: #434B5C;\n",
              "      box-shadow: 0px 1px 3px 1px rgba(0, 0, 0, 0.15);\n",
              "      filter: drop-shadow(0px 1px 2px rgba(0, 0, 0, 0.3));\n",
              "      fill: #FFFFFF;\n",
              "    }\n",
              "  </style>\n",
              "\n",
              "    <script>\n",
              "      const buttonEl =\n",
              "        document.querySelector('#df-937ef666-3d7b-4296-ada6-4c458288a3cb button.colab-df-convert');\n",
              "      buttonEl.style.display =\n",
              "        google.colab.kernel.accessAllowed ? 'block' : 'none';\n",
              "\n",
              "      async function convertToInteractive(key) {\n",
              "        const element = document.querySelector('#df-937ef666-3d7b-4296-ada6-4c458288a3cb');\n",
              "        const dataTable =\n",
              "          await google.colab.kernel.invokeFunction('convertToInteractive',\n",
              "                                                    [key], {});\n",
              "        if (!dataTable) return;\n",
              "\n",
              "        const docLinkHtml = 'Like what you see? Visit the ' +\n",
              "          '<a target=\"_blank\" href=https://colab.research.google.com/notebooks/data_table.ipynb>data table notebook</a>'\n",
              "          + ' to learn more about interactive tables.';\n",
              "        element.innerHTML = '';\n",
              "        dataTable['output_type'] = 'display_data';\n",
              "        await google.colab.output.renderOutput(dataTable, element);\n",
              "        const docLink = document.createElement('div');\n",
              "        docLink.innerHTML = docLinkHtml;\n",
              "        element.appendChild(docLink);\n",
              "      }\n",
              "    </script>\n",
              "  </div>\n",
              "\n",
              "\n",
              "<div id=\"df-c7c2af42-6835-4534-a624-f37a35c54ccd\">\n",
              "  <button class=\"colab-df-quickchart\" onclick=\"quickchart('df-c7c2af42-6835-4534-a624-f37a35c54ccd')\"\n",
              "            title=\"Suggest charts\"\n",
              "            style=\"display:none;\">\n",
              "\n",
              "<svg xmlns=\"http://www.w3.org/2000/svg\" height=\"24px\"viewBox=\"0 0 24 24\"\n",
              "     width=\"24px\">\n",
              "    <g>\n",
              "        <path d=\"M19 3H5c-1.1 0-2 .9-2 2v14c0 1.1.9 2 2 2h14c1.1 0 2-.9 2-2V5c0-1.1-.9-2-2-2zM9 17H7v-7h2v7zm4 0h-2V7h2v10zm4 0h-2v-4h2v4z\"/>\n",
              "    </g>\n",
              "</svg>\n",
              "  </button>\n",
              "\n",
              "<style>\n",
              "  .colab-df-quickchart {\n",
              "      --bg-color: #E8F0FE;\n",
              "      --fill-color: #1967D2;\n",
              "      --hover-bg-color: #E2EBFA;\n",
              "      --hover-fill-color: #174EA6;\n",
              "      --disabled-fill-color: #AAA;\n",
              "      --disabled-bg-color: #DDD;\n",
              "  }\n",
              "\n",
              "  [theme=dark] .colab-df-quickchart {\n",
              "      --bg-color: #3B4455;\n",
              "      --fill-color: #D2E3FC;\n",
              "      --hover-bg-color: #434B5C;\n",
              "      --hover-fill-color: #FFFFFF;\n",
              "      --disabled-bg-color: #3B4455;\n",
              "      --disabled-fill-color: #666;\n",
              "  }\n",
              "\n",
              "  .colab-df-quickchart {\n",
              "    background-color: var(--bg-color);\n",
              "    border: none;\n",
              "    border-radius: 50%;\n",
              "    cursor: pointer;\n",
              "    display: none;\n",
              "    fill: var(--fill-color);\n",
              "    height: 32px;\n",
              "    padding: 0;\n",
              "    width: 32px;\n",
              "  }\n",
              "\n",
              "  .colab-df-quickchart:hover {\n",
              "    background-color: var(--hover-bg-color);\n",
              "    box-shadow: 0 1px 2px rgba(60, 64, 67, 0.3), 0 1px 3px 1px rgba(60, 64, 67, 0.15);\n",
              "    fill: var(--button-hover-fill-color);\n",
              "  }\n",
              "\n",
              "  .colab-df-quickchart-complete:disabled,\n",
              "  .colab-df-quickchart-complete:disabled:hover {\n",
              "    background-color: var(--disabled-bg-color);\n",
              "    fill: var(--disabled-fill-color);\n",
              "    box-shadow: none;\n",
              "  }\n",
              "\n",
              "  .colab-df-spinner {\n",
              "    border: 2px solid var(--fill-color);\n",
              "    border-color: transparent;\n",
              "    border-bottom-color: var(--fill-color);\n",
              "    animation:\n",
              "      spin 1s steps(1) infinite;\n",
              "  }\n",
              "\n",
              "  @keyframes spin {\n",
              "    0% {\n",
              "      border-color: transparent;\n",
              "      border-bottom-color: var(--fill-color);\n",
              "      border-left-color: var(--fill-color);\n",
              "    }\n",
              "    20% {\n",
              "      border-color: transparent;\n",
              "      border-left-color: var(--fill-color);\n",
              "      border-top-color: var(--fill-color);\n",
              "    }\n",
              "    30% {\n",
              "      border-color: transparent;\n",
              "      border-left-color: var(--fill-color);\n",
              "      border-top-color: var(--fill-color);\n",
              "      border-right-color: var(--fill-color);\n",
              "    }\n",
              "    40% {\n",
              "      border-color: transparent;\n",
              "      border-right-color: var(--fill-color);\n",
              "      border-top-color: var(--fill-color);\n",
              "    }\n",
              "    60% {\n",
              "      border-color: transparent;\n",
              "      border-right-color: var(--fill-color);\n",
              "    }\n",
              "    80% {\n",
              "      border-color: transparent;\n",
              "      border-right-color: var(--fill-color);\n",
              "      border-bottom-color: var(--fill-color);\n",
              "    }\n",
              "    90% {\n",
              "      border-color: transparent;\n",
              "      border-bottom-color: var(--fill-color);\n",
              "    }\n",
              "  }\n",
              "</style>\n",
              "\n",
              "  <script>\n",
              "    async function quickchart(key) {\n",
              "      const quickchartButtonEl =\n",
              "        document.querySelector('#' + key + ' button');\n",
              "      quickchartButtonEl.disabled = true;  // To prevent multiple clicks.\n",
              "      quickchartButtonEl.classList.add('colab-df-spinner');\n",
              "      try {\n",
              "        const charts = await google.colab.kernel.invokeFunction(\n",
              "            'suggestCharts', [key], {});\n",
              "      } catch (error) {\n",
              "        console.error('Error during call to suggestCharts:', error);\n",
              "      }\n",
              "      quickchartButtonEl.classList.remove('colab-df-spinner');\n",
              "      quickchartButtonEl.classList.add('colab-df-quickchart-complete');\n",
              "    }\n",
              "    (() => {\n",
              "      let quickchartButtonEl =\n",
              "        document.querySelector('#df-c7c2af42-6835-4534-a624-f37a35c54ccd button');\n",
              "      quickchartButtonEl.style.display =\n",
              "        google.colab.kernel.accessAllowed ? 'block' : 'none';\n",
              "    })();\n",
              "  </script>\n",
              "</div>\n",
              "    </div>\n",
              "  </div>\n"
            ]
          },
          "metadata": {},
          "execution_count": 7
        }
      ]
    },
    {
      "cell_type": "markdown",
      "source": [
        "We will not use the `transactionId` field due to it being a unique identifier for each transaction. The `isSuccessful` field was found to be irrelevant and the `isFlaggedFraud` field is from our previous model. We will not use these two fields while training our new model."
      ],
      "metadata": {
        "id": "SHNiz0Yz_dXK"
      },
      "id": "SHNiz0Yz_dXK"
    },
    {
      "cell_type": "code",
      "source": [
        "transaction_df.drop(columns=['transactionId', 'isSuccessful', 'isFlaggedFraud'], inplace=True)"
      ],
      "metadata": {
        "id": "ntIKy7yWsJW1",
        "executionInfo": {
          "status": "ok",
          "timestamp": 1729211134767,
          "user_tz": 240,
          "elapsed": 175,
          "user": {
            "displayName": "",
            "userId": ""
          }
        }
      },
      "id": "ntIKy7yWsJW1",
      "execution_count": 8,
      "outputs": []
    },
    {
      "cell_type": "markdown",
      "source": [
        "Now we should check the data types of each column of the DataFrame to ensure that the types are correct. Pandas infers the data types from the first few rows of the DataFrame."
      ],
      "metadata": {
        "id": "_3BhkarKBCnT"
      },
      "id": "_3BhkarKBCnT"
    },
    {
      "cell_type": "code",
      "source": [
        "transaction_df.info()"
      ],
      "metadata": {
        "colab": {
          "base_uri": "https://localhost:8080/"
        },
        "id": "neT9kJ2WsgIw",
        "executionInfo": {
          "status": "ok",
          "timestamp": 1729211357707,
          "user_tz": 240,
          "elapsed": 155,
          "user": {
            "displayName": "",
            "userId": ""
          }
        },
        "outputId": "e238f612-400c-4628-e82b-2c49ba35b9fe"
      },
      "id": "neT9kJ2WsgIw",
      "execution_count": 10,
      "outputs": [
        {
          "output_type": "stream",
          "name": "stdout",
          "text": [
            "<class 'pandas.core.frame.DataFrame'>\n",
            "RangeIndex: 35162 entries, 0 to 35161\n",
            "Data columns (total 11 columns):\n",
            " #   Column                   Non-Null Count  Dtype  \n",
            "---  ------                   --------------  -----  \n",
            " 0   step                     35162 non-null  int64  \n",
            " 1   action                   35162 non-null  object \n",
            " 2   amount                   35162 non-null  float64\n",
            " 3   idOrig                   35162 non-null  int64  \n",
            " 4   oldBalanceOrig           35162 non-null  float64\n",
            " 5   newBalanceOrig           35162 non-null  float64\n",
            " 6   idDest                   35162 non-null  object \n",
            " 7   oldBalanceDest           35162 non-null  float64\n",
            " 8   newBalanceDest           35162 non-null  float64\n",
            " 9   isFraud                  35162 non-null  bool   \n",
            " 10  isUnauthorizedOverdraft  35162 non-null  bool   \n",
            "dtypes: bool(2), float64(5), int64(2), object(2)\n",
            "memory usage: 2.5+ MB\n"
          ]
        }
      ]
    },
    {
      "cell_type": "markdown",
      "source": [
        "The `idOrig` field should be treated as an `object` field and not a `float64` field. Otherwise the fields look like they have the correct types. Let's set the types of the `action`, `idOrig`, and `idDest` fields as `str` for the sake of consistency and explore the descriptive statistics for these fields.\n"
      ],
      "metadata": {
        "id": "mIS3i8_ICqqE"
      },
      "id": "mIS3i8_ICqqE"
    },
    {
      "cell_type": "code",
      "source": [
        "cols = ['action', 'idOrig', 'idDest']\n",
        "for col in cols:\n",
        "  transaction_df[col] = transaction_df[col].astype('str', copy=False)\n",
        "transaction_df[cols].describe()"
      ],
      "metadata": {
        "colab": {
          "base_uri": "https://localhost:8080/",
          "height": 174
        },
        "id": "drHWGBGlDL_w",
        "executionInfo": {
          "status": "ok",
          "timestamp": 1729212102849,
          "user_tz": 240,
          "elapsed": 146,
          "user": {
            "displayName": "",
            "userId": ""
          }
        },
        "outputId": "b84a825a-12d8-44f1-a0df-a0f8c78a168e"
      },
      "id": "drHWGBGlDL_w",
      "execution_count": 15,
      "outputs": [
        {
          "output_type": "execute_result",
          "data": {
            "text/plain": [
              "         action            idOrig       idDest\n",
              "count     35162             35162        35162\n",
              "unique        5             27876        31838\n",
              "top     CASH_IN  4481647121519985  B23-0007186\n",
              "freq      14603               133          106"
            ],
            "text/html": [
              "\n",
              "  <div id=\"df-bc2a5e12-ebd2-475f-b7c0-eaf2a73d7cc0\" class=\"colab-df-container\">\n",
              "    <div>\n",
              "<style scoped>\n",
              "    .dataframe tbody tr th:only-of-type {\n",
              "        vertical-align: middle;\n",
              "    }\n",
              "\n",
              "    .dataframe tbody tr th {\n",
              "        vertical-align: top;\n",
              "    }\n",
              "\n",
              "    .dataframe thead th {\n",
              "        text-align: right;\n",
              "    }\n",
              "</style>\n",
              "<table border=\"1\" class=\"dataframe\">\n",
              "  <thead>\n",
              "    <tr style=\"text-align: right;\">\n",
              "      <th></th>\n",
              "      <th>action</th>\n",
              "      <th>idOrig</th>\n",
              "      <th>idDest</th>\n",
              "    </tr>\n",
              "  </thead>\n",
              "  <tbody>\n",
              "    <tr>\n",
              "      <th>count</th>\n",
              "      <td>35162</td>\n",
              "      <td>35162</td>\n",
              "      <td>35162</td>\n",
              "    </tr>\n",
              "    <tr>\n",
              "      <th>unique</th>\n",
              "      <td>5</td>\n",
              "      <td>27876</td>\n",
              "      <td>31838</td>\n",
              "    </tr>\n",
              "    <tr>\n",
              "      <th>top</th>\n",
              "      <td>CASH_IN</td>\n",
              "      <td>4481647121519985</td>\n",
              "      <td>B23-0007186</td>\n",
              "    </tr>\n",
              "    <tr>\n",
              "      <th>freq</th>\n",
              "      <td>14603</td>\n",
              "      <td>133</td>\n",
              "      <td>106</td>\n",
              "    </tr>\n",
              "  </tbody>\n",
              "</table>\n",
              "</div>\n",
              "    <div class=\"colab-df-buttons\">\n",
              "\n",
              "  <div class=\"colab-df-container\">\n",
              "    <button class=\"colab-df-convert\" onclick=\"convertToInteractive('df-bc2a5e12-ebd2-475f-b7c0-eaf2a73d7cc0')\"\n",
              "            title=\"Convert this dataframe to an interactive table.\"\n",
              "            style=\"display:none;\">\n",
              "\n",
              "  <svg xmlns=\"http://www.w3.org/2000/svg\" height=\"24px\" viewBox=\"0 -960 960 960\">\n",
              "    <path d=\"M120-120v-720h720v720H120Zm60-500h600v-160H180v160Zm220 220h160v-160H400v160Zm0 220h160v-160H400v160ZM180-400h160v-160H180v160Zm440 0h160v-160H620v160ZM180-180h160v-160H180v160Zm440 0h160v-160H620v160Z\"/>\n",
              "  </svg>\n",
              "    </button>\n",
              "\n",
              "  <style>\n",
              "    .colab-df-container {\n",
              "      display:flex;\n",
              "      gap: 12px;\n",
              "    }\n",
              "\n",
              "    .colab-df-convert {\n",
              "      background-color: #E8F0FE;\n",
              "      border: none;\n",
              "      border-radius: 50%;\n",
              "      cursor: pointer;\n",
              "      display: none;\n",
              "      fill: #1967D2;\n",
              "      height: 32px;\n",
              "      padding: 0 0 0 0;\n",
              "      width: 32px;\n",
              "    }\n",
              "\n",
              "    .colab-df-convert:hover {\n",
              "      background-color: #E2EBFA;\n",
              "      box-shadow: 0px 1px 2px rgba(60, 64, 67, 0.3), 0px 1px 3px 1px rgba(60, 64, 67, 0.15);\n",
              "      fill: #174EA6;\n",
              "    }\n",
              "\n",
              "    .colab-df-buttons div {\n",
              "      margin-bottom: 4px;\n",
              "    }\n",
              "\n",
              "    [theme=dark] .colab-df-convert {\n",
              "      background-color: #3B4455;\n",
              "      fill: #D2E3FC;\n",
              "    }\n",
              "\n",
              "    [theme=dark] .colab-df-convert:hover {\n",
              "      background-color: #434B5C;\n",
              "      box-shadow: 0px 1px 3px 1px rgba(0, 0, 0, 0.15);\n",
              "      filter: drop-shadow(0px 1px 2px rgba(0, 0, 0, 0.3));\n",
              "      fill: #FFFFFF;\n",
              "    }\n",
              "  </style>\n",
              "\n",
              "    <script>\n",
              "      const buttonEl =\n",
              "        document.querySelector('#df-bc2a5e12-ebd2-475f-b7c0-eaf2a73d7cc0 button.colab-df-convert');\n",
              "      buttonEl.style.display =\n",
              "        google.colab.kernel.accessAllowed ? 'block' : 'none';\n",
              "\n",
              "      async function convertToInteractive(key) {\n",
              "        const element = document.querySelector('#df-bc2a5e12-ebd2-475f-b7c0-eaf2a73d7cc0');\n",
              "        const dataTable =\n",
              "          await google.colab.kernel.invokeFunction('convertToInteractive',\n",
              "                                                    [key], {});\n",
              "        if (!dataTable) return;\n",
              "\n",
              "        const docLinkHtml = 'Like what you see? Visit the ' +\n",
              "          '<a target=\"_blank\" href=https://colab.research.google.com/notebooks/data_table.ipynb>data table notebook</a>'\n",
              "          + ' to learn more about interactive tables.';\n",
              "        element.innerHTML = '';\n",
              "        dataTable['output_type'] = 'display_data';\n",
              "        await google.colab.output.renderOutput(dataTable, element);\n",
              "        const docLink = document.createElement('div');\n",
              "        docLink.innerHTML = docLinkHtml;\n",
              "        element.appendChild(docLink);\n",
              "      }\n",
              "    </script>\n",
              "  </div>\n",
              "\n",
              "\n",
              "<div id=\"df-d5371efd-54e2-4b85-98ce-7d3c887f0153\">\n",
              "  <button class=\"colab-df-quickchart\" onclick=\"quickchart('df-d5371efd-54e2-4b85-98ce-7d3c887f0153')\"\n",
              "            title=\"Suggest charts\"\n",
              "            style=\"display:none;\">\n",
              "\n",
              "<svg xmlns=\"http://www.w3.org/2000/svg\" height=\"24px\"viewBox=\"0 0 24 24\"\n",
              "     width=\"24px\">\n",
              "    <g>\n",
              "        <path d=\"M19 3H5c-1.1 0-2 .9-2 2v14c0 1.1.9 2 2 2h14c1.1 0 2-.9 2-2V5c0-1.1-.9-2-2-2zM9 17H7v-7h2v7zm4 0h-2V7h2v10zm4 0h-2v-4h2v4z\"/>\n",
              "    </g>\n",
              "</svg>\n",
              "  </button>\n",
              "\n",
              "<style>\n",
              "  .colab-df-quickchart {\n",
              "      --bg-color: #E8F0FE;\n",
              "      --fill-color: #1967D2;\n",
              "      --hover-bg-color: #E2EBFA;\n",
              "      --hover-fill-color: #174EA6;\n",
              "      --disabled-fill-color: #AAA;\n",
              "      --disabled-bg-color: #DDD;\n",
              "  }\n",
              "\n",
              "  [theme=dark] .colab-df-quickchart {\n",
              "      --bg-color: #3B4455;\n",
              "      --fill-color: #D2E3FC;\n",
              "      --hover-bg-color: #434B5C;\n",
              "      --hover-fill-color: #FFFFFF;\n",
              "      --disabled-bg-color: #3B4455;\n",
              "      --disabled-fill-color: #666;\n",
              "  }\n",
              "\n",
              "  .colab-df-quickchart {\n",
              "    background-color: var(--bg-color);\n",
              "    border: none;\n",
              "    border-radius: 50%;\n",
              "    cursor: pointer;\n",
              "    display: none;\n",
              "    fill: var(--fill-color);\n",
              "    height: 32px;\n",
              "    padding: 0;\n",
              "    width: 32px;\n",
              "  }\n",
              "\n",
              "  .colab-df-quickchart:hover {\n",
              "    background-color: var(--hover-bg-color);\n",
              "    box-shadow: 0 1px 2px rgba(60, 64, 67, 0.3), 0 1px 3px 1px rgba(60, 64, 67, 0.15);\n",
              "    fill: var(--button-hover-fill-color);\n",
              "  }\n",
              "\n",
              "  .colab-df-quickchart-complete:disabled,\n",
              "  .colab-df-quickchart-complete:disabled:hover {\n",
              "    background-color: var(--disabled-bg-color);\n",
              "    fill: var(--disabled-fill-color);\n",
              "    box-shadow: none;\n",
              "  }\n",
              "\n",
              "  .colab-df-spinner {\n",
              "    border: 2px solid var(--fill-color);\n",
              "    border-color: transparent;\n",
              "    border-bottom-color: var(--fill-color);\n",
              "    animation:\n",
              "      spin 1s steps(1) infinite;\n",
              "  }\n",
              "\n",
              "  @keyframes spin {\n",
              "    0% {\n",
              "      border-color: transparent;\n",
              "      border-bottom-color: var(--fill-color);\n",
              "      border-left-color: var(--fill-color);\n",
              "    }\n",
              "    20% {\n",
              "      border-color: transparent;\n",
              "      border-left-color: var(--fill-color);\n",
              "      border-top-color: var(--fill-color);\n",
              "    }\n",
              "    30% {\n",
              "      border-color: transparent;\n",
              "      border-left-color: var(--fill-color);\n",
              "      border-top-color: var(--fill-color);\n",
              "      border-right-color: var(--fill-color);\n",
              "    }\n",
              "    40% {\n",
              "      border-color: transparent;\n",
              "      border-right-color: var(--fill-color);\n",
              "      border-top-color: var(--fill-color);\n",
              "    }\n",
              "    60% {\n",
              "      border-color: transparent;\n",
              "      border-right-color: var(--fill-color);\n",
              "    }\n",
              "    80% {\n",
              "      border-color: transparent;\n",
              "      border-right-color: var(--fill-color);\n",
              "      border-bottom-color: var(--fill-color);\n",
              "    }\n",
              "    90% {\n",
              "      border-color: transparent;\n",
              "      border-bottom-color: var(--fill-color);\n",
              "    }\n",
              "  }\n",
              "</style>\n",
              "\n",
              "  <script>\n",
              "    async function quickchart(key) {\n",
              "      const quickchartButtonEl =\n",
              "        document.querySelector('#' + key + ' button');\n",
              "      quickchartButtonEl.disabled = true;  // To prevent multiple clicks.\n",
              "      quickchartButtonEl.classList.add('colab-df-spinner');\n",
              "      try {\n",
              "        const charts = await google.colab.kernel.invokeFunction(\n",
              "            'suggestCharts', [key], {});\n",
              "      } catch (error) {\n",
              "        console.error('Error during call to suggestCharts:', error);\n",
              "      }\n",
              "      quickchartButtonEl.classList.remove('colab-df-spinner');\n",
              "      quickchartButtonEl.classList.add('colab-df-quickchart-complete');\n",
              "    }\n",
              "    (() => {\n",
              "      let quickchartButtonEl =\n",
              "        document.querySelector('#df-d5371efd-54e2-4b85-98ce-7d3c887f0153 button');\n",
              "      quickchartButtonEl.style.display =\n",
              "        google.colab.kernel.accessAllowed ? 'block' : 'none';\n",
              "    })();\n",
              "  </script>\n",
              "</div>\n",
              "    </div>\n",
              "  </div>\n"
            ]
          },
          "metadata": {},
          "execution_count": 15
        }
      ]
    },
    {
      "cell_type": "markdown",
      "source": [
        "There are 5 different types of actions in our sample dataset, we'll explore these later. There are a lot of different values for `idOrig` and `idDest`, so we want to be careful how we treat these features not to run into high-dimensionality issues.\n",
        "\n",
        "Now let's look at the numeric features."
      ],
      "metadata": {
        "id": "AgHe_dadDpcl"
      },
      "id": "AgHe_dadDpcl"
    },
    {
      "cell_type": "code",
      "source": [
        "transaction_df.describe()"
      ],
      "metadata": {
        "colab": {
          "base_uri": "https://localhost:8080/",
          "height": 300
        },
        "id": "n3WTogcxtYv0",
        "executionInfo": {
          "status": "ok",
          "timestamp": 1729212105989,
          "user_tz": 240,
          "elapsed": 152,
          "user": {
            "displayName": "",
            "userId": ""
          }
        },
        "outputId": "75aec161-bc12-40d0-c0bc-7f680348294d"
      },
      "id": "n3WTogcxtYv0",
      "execution_count": 16,
      "outputs": [
        {
          "output_type": "execute_result",
          "data": {
            "text/plain": [
              "               step        amount  oldBalanceOrig  newBalanceOrig  \\\n",
              "count  35162.000000  3.516200e+04    3.516200e+04    3.516200e+04   \n",
              "mean     220.005091  1.431921e+05    3.321340e+06    3.301829e+06   \n",
              "std      646.957836  3.090266e+05    1.960542e+06    1.924417e+06   \n",
              "min        1.000000  1.500000e-01   -1.382708e+05   -9.760091e+04   \n",
              "25%       44.000000  1.321279e+04    2.428366e+06    2.423224e+06   \n",
              "50%      187.000000  9.365195e+04    3.391560e+06    3.367151e+06   \n",
              "75%      282.000000  1.703791e+05    4.167476e+06    4.138506e+06   \n",
              "max    17201.000000  1.097397e+07    5.023783e+07    5.045982e+07   \n",
              "\n",
              "       oldBalanceDest  newBalanceDest  \n",
              "count    3.516200e+04    3.516200e+04  \n",
              "mean     3.385342e+05    3.867750e+05  \n",
              "std      1.178416e+06    1.346283e+06  \n",
              "min     -1.901728e+04    0.000000e+00  \n",
              "25%      1.792912e+04    2.042542e+04  \n",
              "50%      8.146003e+04    8.453358e+04  \n",
              "75%      1.777362e+05    1.812265e+05  \n",
              "max      2.811845e+07    2.887887e+07  "
            ],
            "text/html": [
              "\n",
              "  <div id=\"df-375b5eeb-a5e4-43e8-bcfc-7911bdb1bf3f\" class=\"colab-df-container\">\n",
              "    <div>\n",
              "<style scoped>\n",
              "    .dataframe tbody tr th:only-of-type {\n",
              "        vertical-align: middle;\n",
              "    }\n",
              "\n",
              "    .dataframe tbody tr th {\n",
              "        vertical-align: top;\n",
              "    }\n",
              "\n",
              "    .dataframe thead th {\n",
              "        text-align: right;\n",
              "    }\n",
              "</style>\n",
              "<table border=\"1\" class=\"dataframe\">\n",
              "  <thead>\n",
              "    <tr style=\"text-align: right;\">\n",
              "      <th></th>\n",
              "      <th>step</th>\n",
              "      <th>amount</th>\n",
              "      <th>oldBalanceOrig</th>\n",
              "      <th>newBalanceOrig</th>\n",
              "      <th>oldBalanceDest</th>\n",
              "      <th>newBalanceDest</th>\n",
              "    </tr>\n",
              "  </thead>\n",
              "  <tbody>\n",
              "    <tr>\n",
              "      <th>count</th>\n",
              "      <td>35162.000000</td>\n",
              "      <td>3.516200e+04</td>\n",
              "      <td>3.516200e+04</td>\n",
              "      <td>3.516200e+04</td>\n",
              "      <td>3.516200e+04</td>\n",
              "      <td>3.516200e+04</td>\n",
              "    </tr>\n",
              "    <tr>\n",
              "      <th>mean</th>\n",
              "      <td>220.005091</td>\n",
              "      <td>1.431921e+05</td>\n",
              "      <td>3.321340e+06</td>\n",
              "      <td>3.301829e+06</td>\n",
              "      <td>3.385342e+05</td>\n",
              "      <td>3.867750e+05</td>\n",
              "    </tr>\n",
              "    <tr>\n",
              "      <th>std</th>\n",
              "      <td>646.957836</td>\n",
              "      <td>3.090266e+05</td>\n",
              "      <td>1.960542e+06</td>\n",
              "      <td>1.924417e+06</td>\n",
              "      <td>1.178416e+06</td>\n",
              "      <td>1.346283e+06</td>\n",
              "    </tr>\n",
              "    <tr>\n",
              "      <th>min</th>\n",
              "      <td>1.000000</td>\n",
              "      <td>1.500000e-01</td>\n",
              "      <td>-1.382708e+05</td>\n",
              "      <td>-9.760091e+04</td>\n",
              "      <td>-1.901728e+04</td>\n",
              "      <td>0.000000e+00</td>\n",
              "    </tr>\n",
              "    <tr>\n",
              "      <th>25%</th>\n",
              "      <td>44.000000</td>\n",
              "      <td>1.321279e+04</td>\n",
              "      <td>2.428366e+06</td>\n",
              "      <td>2.423224e+06</td>\n",
              "      <td>1.792912e+04</td>\n",
              "      <td>2.042542e+04</td>\n",
              "    </tr>\n",
              "    <tr>\n",
              "      <th>50%</th>\n",
              "      <td>187.000000</td>\n",
              "      <td>9.365195e+04</td>\n",
              "      <td>3.391560e+06</td>\n",
              "      <td>3.367151e+06</td>\n",
              "      <td>8.146003e+04</td>\n",
              "      <td>8.453358e+04</td>\n",
              "    </tr>\n",
              "    <tr>\n",
              "      <th>75%</th>\n",
              "      <td>282.000000</td>\n",
              "      <td>1.703791e+05</td>\n",
              "      <td>4.167476e+06</td>\n",
              "      <td>4.138506e+06</td>\n",
              "      <td>1.777362e+05</td>\n",
              "      <td>1.812265e+05</td>\n",
              "    </tr>\n",
              "    <tr>\n",
              "      <th>max</th>\n",
              "      <td>17201.000000</td>\n",
              "      <td>1.097397e+07</td>\n",
              "      <td>5.023783e+07</td>\n",
              "      <td>5.045982e+07</td>\n",
              "      <td>2.811845e+07</td>\n",
              "      <td>2.887887e+07</td>\n",
              "    </tr>\n",
              "  </tbody>\n",
              "</table>\n",
              "</div>\n",
              "    <div class=\"colab-df-buttons\">\n",
              "\n",
              "  <div class=\"colab-df-container\">\n",
              "    <button class=\"colab-df-convert\" onclick=\"convertToInteractive('df-375b5eeb-a5e4-43e8-bcfc-7911bdb1bf3f')\"\n",
              "            title=\"Convert this dataframe to an interactive table.\"\n",
              "            style=\"display:none;\">\n",
              "\n",
              "  <svg xmlns=\"http://www.w3.org/2000/svg\" height=\"24px\" viewBox=\"0 -960 960 960\">\n",
              "    <path d=\"M120-120v-720h720v720H120Zm60-500h600v-160H180v160Zm220 220h160v-160H400v160Zm0 220h160v-160H400v160ZM180-400h160v-160H180v160Zm440 0h160v-160H620v160ZM180-180h160v-160H180v160Zm440 0h160v-160H620v160Z\"/>\n",
              "  </svg>\n",
              "    </button>\n",
              "\n",
              "  <style>\n",
              "    .colab-df-container {\n",
              "      display:flex;\n",
              "      gap: 12px;\n",
              "    }\n",
              "\n",
              "    .colab-df-convert {\n",
              "      background-color: #E8F0FE;\n",
              "      border: none;\n",
              "      border-radius: 50%;\n",
              "      cursor: pointer;\n",
              "      display: none;\n",
              "      fill: #1967D2;\n",
              "      height: 32px;\n",
              "      padding: 0 0 0 0;\n",
              "      width: 32px;\n",
              "    }\n",
              "\n",
              "    .colab-df-convert:hover {\n",
              "      background-color: #E2EBFA;\n",
              "      box-shadow: 0px 1px 2px rgba(60, 64, 67, 0.3), 0px 1px 3px 1px rgba(60, 64, 67, 0.15);\n",
              "      fill: #174EA6;\n",
              "    }\n",
              "\n",
              "    .colab-df-buttons div {\n",
              "      margin-bottom: 4px;\n",
              "    }\n",
              "\n",
              "    [theme=dark] .colab-df-convert {\n",
              "      background-color: #3B4455;\n",
              "      fill: #D2E3FC;\n",
              "    }\n",
              "\n",
              "    [theme=dark] .colab-df-convert:hover {\n",
              "      background-color: #434B5C;\n",
              "      box-shadow: 0px 1px 3px 1px rgba(0, 0, 0, 0.15);\n",
              "      filter: drop-shadow(0px 1px 2px rgba(0, 0, 0, 0.3));\n",
              "      fill: #FFFFFF;\n",
              "    }\n",
              "  </style>\n",
              "\n",
              "    <script>\n",
              "      const buttonEl =\n",
              "        document.querySelector('#df-375b5eeb-a5e4-43e8-bcfc-7911bdb1bf3f button.colab-df-convert');\n",
              "      buttonEl.style.display =\n",
              "        google.colab.kernel.accessAllowed ? 'block' : 'none';\n",
              "\n",
              "      async function convertToInteractive(key) {\n",
              "        const element = document.querySelector('#df-375b5eeb-a5e4-43e8-bcfc-7911bdb1bf3f');\n",
              "        const dataTable =\n",
              "          await google.colab.kernel.invokeFunction('convertToInteractive',\n",
              "                                                    [key], {});\n",
              "        if (!dataTable) return;\n",
              "\n",
              "        const docLinkHtml = 'Like what you see? Visit the ' +\n",
              "          '<a target=\"_blank\" href=https://colab.research.google.com/notebooks/data_table.ipynb>data table notebook</a>'\n",
              "          + ' to learn more about interactive tables.';\n",
              "        element.innerHTML = '';\n",
              "        dataTable['output_type'] = 'display_data';\n",
              "        await google.colab.output.renderOutput(dataTable, element);\n",
              "        const docLink = document.createElement('div');\n",
              "        docLink.innerHTML = docLinkHtml;\n",
              "        element.appendChild(docLink);\n",
              "      }\n",
              "    </script>\n",
              "  </div>\n",
              "\n",
              "\n",
              "<div id=\"df-47d13974-b7a9-4808-b9a5-78c273215f6e\">\n",
              "  <button class=\"colab-df-quickchart\" onclick=\"quickchart('df-47d13974-b7a9-4808-b9a5-78c273215f6e')\"\n",
              "            title=\"Suggest charts\"\n",
              "            style=\"display:none;\">\n",
              "\n",
              "<svg xmlns=\"http://www.w3.org/2000/svg\" height=\"24px\"viewBox=\"0 0 24 24\"\n",
              "     width=\"24px\">\n",
              "    <g>\n",
              "        <path d=\"M19 3H5c-1.1 0-2 .9-2 2v14c0 1.1.9 2 2 2h14c1.1 0 2-.9 2-2V5c0-1.1-.9-2-2-2zM9 17H7v-7h2v7zm4 0h-2V7h2v10zm4 0h-2v-4h2v4z\"/>\n",
              "    </g>\n",
              "</svg>\n",
              "  </button>\n",
              "\n",
              "<style>\n",
              "  .colab-df-quickchart {\n",
              "      --bg-color: #E8F0FE;\n",
              "      --fill-color: #1967D2;\n",
              "      --hover-bg-color: #E2EBFA;\n",
              "      --hover-fill-color: #174EA6;\n",
              "      --disabled-fill-color: #AAA;\n",
              "      --disabled-bg-color: #DDD;\n",
              "  }\n",
              "\n",
              "  [theme=dark] .colab-df-quickchart {\n",
              "      --bg-color: #3B4455;\n",
              "      --fill-color: #D2E3FC;\n",
              "      --hover-bg-color: #434B5C;\n",
              "      --hover-fill-color: #FFFFFF;\n",
              "      --disabled-bg-color: #3B4455;\n",
              "      --disabled-fill-color: #666;\n",
              "  }\n",
              "\n",
              "  .colab-df-quickchart {\n",
              "    background-color: var(--bg-color);\n",
              "    border: none;\n",
              "    border-radius: 50%;\n",
              "    cursor: pointer;\n",
              "    display: none;\n",
              "    fill: var(--fill-color);\n",
              "    height: 32px;\n",
              "    padding: 0;\n",
              "    width: 32px;\n",
              "  }\n",
              "\n",
              "  .colab-df-quickchart:hover {\n",
              "    background-color: var(--hover-bg-color);\n",
              "    box-shadow: 0 1px 2px rgba(60, 64, 67, 0.3), 0 1px 3px 1px rgba(60, 64, 67, 0.15);\n",
              "    fill: var(--button-hover-fill-color);\n",
              "  }\n",
              "\n",
              "  .colab-df-quickchart-complete:disabled,\n",
              "  .colab-df-quickchart-complete:disabled:hover {\n",
              "    background-color: var(--disabled-bg-color);\n",
              "    fill: var(--disabled-fill-color);\n",
              "    box-shadow: none;\n",
              "  }\n",
              "\n",
              "  .colab-df-spinner {\n",
              "    border: 2px solid var(--fill-color);\n",
              "    border-color: transparent;\n",
              "    border-bottom-color: var(--fill-color);\n",
              "    animation:\n",
              "      spin 1s steps(1) infinite;\n",
              "  }\n",
              "\n",
              "  @keyframes spin {\n",
              "    0% {\n",
              "      border-color: transparent;\n",
              "      border-bottom-color: var(--fill-color);\n",
              "      border-left-color: var(--fill-color);\n",
              "    }\n",
              "    20% {\n",
              "      border-color: transparent;\n",
              "      border-left-color: var(--fill-color);\n",
              "      border-top-color: var(--fill-color);\n",
              "    }\n",
              "    30% {\n",
              "      border-color: transparent;\n",
              "      border-left-color: var(--fill-color);\n",
              "      border-top-color: var(--fill-color);\n",
              "      border-right-color: var(--fill-color);\n",
              "    }\n",
              "    40% {\n",
              "      border-color: transparent;\n",
              "      border-right-color: var(--fill-color);\n",
              "      border-top-color: var(--fill-color);\n",
              "    }\n",
              "    60% {\n",
              "      border-color: transparent;\n",
              "      border-right-color: var(--fill-color);\n",
              "    }\n",
              "    80% {\n",
              "      border-color: transparent;\n",
              "      border-right-color: var(--fill-color);\n",
              "      border-bottom-color: var(--fill-color);\n",
              "    }\n",
              "    90% {\n",
              "      border-color: transparent;\n",
              "      border-bottom-color: var(--fill-color);\n",
              "    }\n",
              "  }\n",
              "</style>\n",
              "\n",
              "  <script>\n",
              "    async function quickchart(key) {\n",
              "      const quickchartButtonEl =\n",
              "        document.querySelector('#' + key + ' button');\n",
              "      quickchartButtonEl.disabled = true;  // To prevent multiple clicks.\n",
              "      quickchartButtonEl.classList.add('colab-df-spinner');\n",
              "      try {\n",
              "        const charts = await google.colab.kernel.invokeFunction(\n",
              "            'suggestCharts', [key], {});\n",
              "      } catch (error) {\n",
              "        console.error('Error during call to suggestCharts:', error);\n",
              "      }\n",
              "      quickchartButtonEl.classList.remove('colab-df-spinner');\n",
              "      quickchartButtonEl.classList.add('colab-df-quickchart-complete');\n",
              "    }\n",
              "    (() => {\n",
              "      let quickchartButtonEl =\n",
              "        document.querySelector('#df-47d13974-b7a9-4808-b9a5-78c273215f6e button');\n",
              "      quickchartButtonEl.style.display =\n",
              "        google.colab.kernel.accessAllowed ? 'block' : 'none';\n",
              "    })();\n",
              "  </script>\n",
              "</div>\n",
              "    </div>\n",
              "  </div>\n"
            ]
          },
          "metadata": {},
          "execution_count": 16
        }
      ]
    },
    {
      "cell_type": "markdown",
      "source": [
        "The range of values for the fields other than `step` have fairly large value ranges with different value distributions. This can cause issues with the convergence of our model due to having to deal with larger values in gradient computations and the correspoding curvature of the loss surface.\n",
        "\n",
        "To address this, we will normalize the values for the numeric fields."
      ],
      "metadata": {
        "id": "ju67Sr_qEVgG"
      },
      "id": "ju67Sr_qEVgG"
    },
    {
      "cell_type": "code",
      "source": [
        "def standardize(column):\n",
        "    return (column - column.mean()) / column.std()\n",
        "\n",
        "std_cols = ['amount',\t'oldBalanceOrig',\t'newBalanceOrig',\n",
        "            'oldBalanceDest',\t'newBalanceDest']\n",
        "\n",
        "transaction_df[std_cols] = transaction_df[std_cols].apply(standardize)\n",
        "\n",
        "transaction_df.describe()\n"
      ],
      "metadata": {
        "colab": {
          "base_uri": "https://localhost:8080/",
          "height": 300
        },
        "id": "PN5rdb5PGCnx",
        "executionInfo": {
          "status": "ok",
          "timestamp": 1729212896286,
          "user_tz": 240,
          "elapsed": 164,
          "user": {
            "displayName": "",
            "userId": ""
          }
        },
        "outputId": "f705c414-93d8-494a-e32f-cf6cc5cb322c"
      },
      "id": "PN5rdb5PGCnx",
      "execution_count": 18,
      "outputs": [
        {
          "output_type": "execute_result",
          "data": {
            "text/plain": [
              "               step        amount  oldBalanceOrig  newBalanceOrig  \\\n",
              "count  35162.000000  3.516200e+04    3.516200e+04    3.516200e+04   \n",
              "mean     220.005091 -7.759752e-17    5.496491e-17    1.176087e-16   \n",
              "std      646.957836  1.000000e+00    1.000000e+00    1.000000e+00   \n",
              "min        1.000000 -4.633647e-01   -1.764619e+00   -1.766473e+00   \n",
              "25%       44.000000 -4.206090e-01   -4.554726e-01   -4.565567e-01   \n",
              "50%      187.000000 -1.603105e-01    3.581699e-02    3.394343e-02   \n",
              "75%      282.000000  8.797604e-02    4.315830e-01    4.347690e-01   \n",
              "max    17201.000000  3.504803e+01    2.393037e+01    2.450508e+01   \n",
              "\n",
              "       oldBalanceDest  newBalanceDest  \n",
              "count    3.516200e+04    3.516200e+04  \n",
              "mean    -2.586584e-17    2.586584e-17  \n",
              "std      1.000000e+00    1.000000e+00  \n",
              "min     -3.034171e-01   -2.872910e-01  \n",
              "25%     -2.720645e-01   -2.721193e-01  \n",
              "50%     -2.181524e-01   -2.245006e-01  \n",
              "75%     -1.364527e-01   -1.526785e-01  \n",
              "max      2.357396e+01    2.116353e+01  "
            ],
            "text/html": [
              "\n",
              "  <div id=\"df-9e721c47-daf7-4e34-8755-0bdabefd0634\" class=\"colab-df-container\">\n",
              "    <div>\n",
              "<style scoped>\n",
              "    .dataframe tbody tr th:only-of-type {\n",
              "        vertical-align: middle;\n",
              "    }\n",
              "\n",
              "    .dataframe tbody tr th {\n",
              "        vertical-align: top;\n",
              "    }\n",
              "\n",
              "    .dataframe thead th {\n",
              "        text-align: right;\n",
              "    }\n",
              "</style>\n",
              "<table border=\"1\" class=\"dataframe\">\n",
              "  <thead>\n",
              "    <tr style=\"text-align: right;\">\n",
              "      <th></th>\n",
              "      <th>step</th>\n",
              "      <th>amount</th>\n",
              "      <th>oldBalanceOrig</th>\n",
              "      <th>newBalanceOrig</th>\n",
              "      <th>oldBalanceDest</th>\n",
              "      <th>newBalanceDest</th>\n",
              "    </tr>\n",
              "  </thead>\n",
              "  <tbody>\n",
              "    <tr>\n",
              "      <th>count</th>\n",
              "      <td>35162.000000</td>\n",
              "      <td>3.516200e+04</td>\n",
              "      <td>3.516200e+04</td>\n",
              "      <td>3.516200e+04</td>\n",
              "      <td>3.516200e+04</td>\n",
              "      <td>3.516200e+04</td>\n",
              "    </tr>\n",
              "    <tr>\n",
              "      <th>mean</th>\n",
              "      <td>220.005091</td>\n",
              "      <td>-7.759752e-17</td>\n",
              "      <td>5.496491e-17</td>\n",
              "      <td>1.176087e-16</td>\n",
              "      <td>-2.586584e-17</td>\n",
              "      <td>2.586584e-17</td>\n",
              "    </tr>\n",
              "    <tr>\n",
              "      <th>std</th>\n",
              "      <td>646.957836</td>\n",
              "      <td>1.000000e+00</td>\n",
              "      <td>1.000000e+00</td>\n",
              "      <td>1.000000e+00</td>\n",
              "      <td>1.000000e+00</td>\n",
              "      <td>1.000000e+00</td>\n",
              "    </tr>\n",
              "    <tr>\n",
              "      <th>min</th>\n",
              "      <td>1.000000</td>\n",
              "      <td>-4.633647e-01</td>\n",
              "      <td>-1.764619e+00</td>\n",
              "      <td>-1.766473e+00</td>\n",
              "      <td>-3.034171e-01</td>\n",
              "      <td>-2.872910e-01</td>\n",
              "    </tr>\n",
              "    <tr>\n",
              "      <th>25%</th>\n",
              "      <td>44.000000</td>\n",
              "      <td>-4.206090e-01</td>\n",
              "      <td>-4.554726e-01</td>\n",
              "      <td>-4.565567e-01</td>\n",
              "      <td>-2.720645e-01</td>\n",
              "      <td>-2.721193e-01</td>\n",
              "    </tr>\n",
              "    <tr>\n",
              "      <th>50%</th>\n",
              "      <td>187.000000</td>\n",
              "      <td>-1.603105e-01</td>\n",
              "      <td>3.581699e-02</td>\n",
              "      <td>3.394343e-02</td>\n",
              "      <td>-2.181524e-01</td>\n",
              "      <td>-2.245006e-01</td>\n",
              "    </tr>\n",
              "    <tr>\n",
              "      <th>75%</th>\n",
              "      <td>282.000000</td>\n",
              "      <td>8.797604e-02</td>\n",
              "      <td>4.315830e-01</td>\n",
              "      <td>4.347690e-01</td>\n",
              "      <td>-1.364527e-01</td>\n",
              "      <td>-1.526785e-01</td>\n",
              "    </tr>\n",
              "    <tr>\n",
              "      <th>max</th>\n",
              "      <td>17201.000000</td>\n",
              "      <td>3.504803e+01</td>\n",
              "      <td>2.393037e+01</td>\n",
              "      <td>2.450508e+01</td>\n",
              "      <td>2.357396e+01</td>\n",
              "      <td>2.116353e+01</td>\n",
              "    </tr>\n",
              "  </tbody>\n",
              "</table>\n",
              "</div>\n",
              "    <div class=\"colab-df-buttons\">\n",
              "\n",
              "  <div class=\"colab-df-container\">\n",
              "    <button class=\"colab-df-convert\" onclick=\"convertToInteractive('df-9e721c47-daf7-4e34-8755-0bdabefd0634')\"\n",
              "            title=\"Convert this dataframe to an interactive table.\"\n",
              "            style=\"display:none;\">\n",
              "\n",
              "  <svg xmlns=\"http://www.w3.org/2000/svg\" height=\"24px\" viewBox=\"0 -960 960 960\">\n",
              "    <path d=\"M120-120v-720h720v720H120Zm60-500h600v-160H180v160Zm220 220h160v-160H400v160Zm0 220h160v-160H400v160ZM180-400h160v-160H180v160Zm440 0h160v-160H620v160ZM180-180h160v-160H180v160Zm440 0h160v-160H620v160Z\"/>\n",
              "  </svg>\n",
              "    </button>\n",
              "\n",
              "  <style>\n",
              "    .colab-df-container {\n",
              "      display:flex;\n",
              "      gap: 12px;\n",
              "    }\n",
              "\n",
              "    .colab-df-convert {\n",
              "      background-color: #E8F0FE;\n",
              "      border: none;\n",
              "      border-radius: 50%;\n",
              "      cursor: pointer;\n",
              "      display: none;\n",
              "      fill: #1967D2;\n",
              "      height: 32px;\n",
              "      padding: 0 0 0 0;\n",
              "      width: 32px;\n",
              "    }\n",
              "\n",
              "    .colab-df-convert:hover {\n",
              "      background-color: #E2EBFA;\n",
              "      box-shadow: 0px 1px 2px rgba(60, 64, 67, 0.3), 0px 1px 3px 1px rgba(60, 64, 67, 0.15);\n",
              "      fill: #174EA6;\n",
              "    }\n",
              "\n",
              "    .colab-df-buttons div {\n",
              "      margin-bottom: 4px;\n",
              "    }\n",
              "\n",
              "    [theme=dark] .colab-df-convert {\n",
              "      background-color: #3B4455;\n",
              "      fill: #D2E3FC;\n",
              "    }\n",
              "\n",
              "    [theme=dark] .colab-df-convert:hover {\n",
              "      background-color: #434B5C;\n",
              "      box-shadow: 0px 1px 3px 1px rgba(0, 0, 0, 0.15);\n",
              "      filter: drop-shadow(0px 1px 2px rgba(0, 0, 0, 0.3));\n",
              "      fill: #FFFFFF;\n",
              "    }\n",
              "  </style>\n",
              "\n",
              "    <script>\n",
              "      const buttonEl =\n",
              "        document.querySelector('#df-9e721c47-daf7-4e34-8755-0bdabefd0634 button.colab-df-convert');\n",
              "      buttonEl.style.display =\n",
              "        google.colab.kernel.accessAllowed ? 'block' : 'none';\n",
              "\n",
              "      async function convertToInteractive(key) {\n",
              "        const element = document.querySelector('#df-9e721c47-daf7-4e34-8755-0bdabefd0634');\n",
              "        const dataTable =\n",
              "          await google.colab.kernel.invokeFunction('convertToInteractive',\n",
              "                                                    [key], {});\n",
              "        if (!dataTable) return;\n",
              "\n",
              "        const docLinkHtml = 'Like what you see? Visit the ' +\n",
              "          '<a target=\"_blank\" href=https://colab.research.google.com/notebooks/data_table.ipynb>data table notebook</a>'\n",
              "          + ' to learn more about interactive tables.';\n",
              "        element.innerHTML = '';\n",
              "        dataTable['output_type'] = 'display_data';\n",
              "        await google.colab.output.renderOutput(dataTable, element);\n",
              "        const docLink = document.createElement('div');\n",
              "        docLink.innerHTML = docLinkHtml;\n",
              "        element.appendChild(docLink);\n",
              "      }\n",
              "    </script>\n",
              "  </div>\n",
              "\n",
              "\n",
              "<div id=\"df-af5676de-b7ff-4c7e-b258-4155707c50c7\">\n",
              "  <button class=\"colab-df-quickchart\" onclick=\"quickchart('df-af5676de-b7ff-4c7e-b258-4155707c50c7')\"\n",
              "            title=\"Suggest charts\"\n",
              "            style=\"display:none;\">\n",
              "\n",
              "<svg xmlns=\"http://www.w3.org/2000/svg\" height=\"24px\"viewBox=\"0 0 24 24\"\n",
              "     width=\"24px\">\n",
              "    <g>\n",
              "        <path d=\"M19 3H5c-1.1 0-2 .9-2 2v14c0 1.1.9 2 2 2h14c1.1 0 2-.9 2-2V5c0-1.1-.9-2-2-2zM9 17H7v-7h2v7zm4 0h-2V7h2v10zm4 0h-2v-4h2v4z\"/>\n",
              "    </g>\n",
              "</svg>\n",
              "  </button>\n",
              "\n",
              "<style>\n",
              "  .colab-df-quickchart {\n",
              "      --bg-color: #E8F0FE;\n",
              "      --fill-color: #1967D2;\n",
              "      --hover-bg-color: #E2EBFA;\n",
              "      --hover-fill-color: #174EA6;\n",
              "      --disabled-fill-color: #AAA;\n",
              "      --disabled-bg-color: #DDD;\n",
              "  }\n",
              "\n",
              "  [theme=dark] .colab-df-quickchart {\n",
              "      --bg-color: #3B4455;\n",
              "      --fill-color: #D2E3FC;\n",
              "      --hover-bg-color: #434B5C;\n",
              "      --hover-fill-color: #FFFFFF;\n",
              "      --disabled-bg-color: #3B4455;\n",
              "      --disabled-fill-color: #666;\n",
              "  }\n",
              "\n",
              "  .colab-df-quickchart {\n",
              "    background-color: var(--bg-color);\n",
              "    border: none;\n",
              "    border-radius: 50%;\n",
              "    cursor: pointer;\n",
              "    display: none;\n",
              "    fill: var(--fill-color);\n",
              "    height: 32px;\n",
              "    padding: 0;\n",
              "    width: 32px;\n",
              "  }\n",
              "\n",
              "  .colab-df-quickchart:hover {\n",
              "    background-color: var(--hover-bg-color);\n",
              "    box-shadow: 0 1px 2px rgba(60, 64, 67, 0.3), 0 1px 3px 1px rgba(60, 64, 67, 0.15);\n",
              "    fill: var(--button-hover-fill-color);\n",
              "  }\n",
              "\n",
              "  .colab-df-quickchart-complete:disabled,\n",
              "  .colab-df-quickchart-complete:disabled:hover {\n",
              "    background-color: var(--disabled-bg-color);\n",
              "    fill: var(--disabled-fill-color);\n",
              "    box-shadow: none;\n",
              "  }\n",
              "\n",
              "  .colab-df-spinner {\n",
              "    border: 2px solid var(--fill-color);\n",
              "    border-color: transparent;\n",
              "    border-bottom-color: var(--fill-color);\n",
              "    animation:\n",
              "      spin 1s steps(1) infinite;\n",
              "  }\n",
              "\n",
              "  @keyframes spin {\n",
              "    0% {\n",
              "      border-color: transparent;\n",
              "      border-bottom-color: var(--fill-color);\n",
              "      border-left-color: var(--fill-color);\n",
              "    }\n",
              "    20% {\n",
              "      border-color: transparent;\n",
              "      border-left-color: var(--fill-color);\n",
              "      border-top-color: var(--fill-color);\n",
              "    }\n",
              "    30% {\n",
              "      border-color: transparent;\n",
              "      border-left-color: var(--fill-color);\n",
              "      border-top-color: var(--fill-color);\n",
              "      border-right-color: var(--fill-color);\n",
              "    }\n",
              "    40% {\n",
              "      border-color: transparent;\n",
              "      border-right-color: var(--fill-color);\n",
              "      border-top-color: var(--fill-color);\n",
              "    }\n",
              "    60% {\n",
              "      border-color: transparent;\n",
              "      border-right-color: var(--fill-color);\n",
              "    }\n",
              "    80% {\n",
              "      border-color: transparent;\n",
              "      border-right-color: var(--fill-color);\n",
              "      border-bottom-color: var(--fill-color);\n",
              "    }\n",
              "    90% {\n",
              "      border-color: transparent;\n",
              "      border-bottom-color: var(--fill-color);\n",
              "    }\n",
              "  }\n",
              "</style>\n",
              "\n",
              "  <script>\n",
              "    async function quickchart(key) {\n",
              "      const quickchartButtonEl =\n",
              "        document.querySelector('#' + key + ' button');\n",
              "      quickchartButtonEl.disabled = true;  // To prevent multiple clicks.\n",
              "      quickchartButtonEl.classList.add('colab-df-spinner');\n",
              "      try {\n",
              "        const charts = await google.colab.kernel.invokeFunction(\n",
              "            'suggestCharts', [key], {});\n",
              "      } catch (error) {\n",
              "        console.error('Error during call to suggestCharts:', error);\n",
              "      }\n",
              "      quickchartButtonEl.classList.remove('colab-df-spinner');\n",
              "      quickchartButtonEl.classList.add('colab-df-quickchart-complete');\n",
              "    }\n",
              "    (() => {\n",
              "      let quickchartButtonEl =\n",
              "        document.querySelector('#df-af5676de-b7ff-4c7e-b258-4155707c50c7 button');\n",
              "      quickchartButtonEl.style.display =\n",
              "        google.colab.kernel.accessAllowed ? 'block' : 'none';\n",
              "    })();\n",
              "  </script>\n",
              "</div>\n",
              "    </div>\n",
              "  </div>\n"
            ]
          },
          "metadata": {},
          "execution_count": 18
        }
      ]
    },
    {
      "cell_type": "markdown",
      "source": [
        "Before starting to build a model, let's explore the distribution of some features. First let's look at the distribution of fradulent transactions."
      ],
      "metadata": {
        "id": "1kQMN5W_H8Ok"
      },
      "id": "1kQMN5W_H8Ok"
    },
    {
      "cell_type": "code",
      "source": [
        "transaction_df.groupby('action')['isFraud'].mean().plot.bar()"
      ],
      "metadata": {
        "colab": {
          "base_uri": "https://localhost:8080/",
          "height": 528
        },
        "id": "7ELjZ6I8uQuG",
        "executionInfo": {
          "status": "ok",
          "timestamp": 1729213028205,
          "user_tz": 240,
          "elapsed": 362,
          "user": {
            "displayName": "",
            "userId": ""
          }
        },
        "outputId": "4012664c-2e95-4c1b-b4f3-f02d84d15724"
      },
      "id": "7ELjZ6I8uQuG",
      "execution_count": 19,
      "outputs": [
        {
          "output_type": "execute_result",
          "data": {
            "text/plain": [
              "<Axes: xlabel='action'>"
            ]
          },
          "metadata": {},
          "execution_count": 19
        },
        {
          "output_type": "display_data",
          "data": {
            "text/plain": [
              "<Figure size 640x480 with 1 Axes>"
            ],
            "image/png": "[encoded data removed]"
          },
          "metadata": {}
        }
      ]
    },
    {
      "cell_type": "markdown",
      "source": [
        "This is a bit worrisome. Only 2 types of transactions are possible fradulent. This is likely not representative of the entire dataset, but unfortunately we do not have access to more data at this time.\n",
        "\n",
        "Now let's look at the proportion of legitmate to fraudulent transactions in the sample dataset."
      ],
      "metadata": {
        "id": "iAkzyeLPIOEM"
      },
      "id": "iAkzyeLPIOEM"
    },
    {
      "cell_type": "code",
      "source": [
        "transaction_df.groupby('action')['isFraud'].value_counts()"
      ],
      "metadata": {
        "colab": {
          "base_uri": "https://localhost:8080/",
          "height": 334
        },
        "id": "UjaGaKh-vVHf",
        "executionInfo": {
          "status": "ok",
          "timestamp": 1729213184940,
          "user_tz": 240,
          "elapsed": 252,
          "user": {
            "displayName": "",
            "userId": ""
          }
        },
        "outputId": "8d61e99b-4f2a-46bc-b375-b3e1e80e82e9"
      },
      "id": "UjaGaKh-vVHf",
      "execution_count": 20,
      "outputs": [
        {
          "output_type": "execute_result",
          "data": {
            "text/plain": [
              "action    isFraud\n",
              "CASH_IN   False      14603\n",
              "CASH_OUT  False       8314\n",
              "DEBIT     False       1718\n",
              "PAYMENT   False       8276\n",
              "          True          31\n",
              "TRANSFER  False       2095\n",
              "          True         125\n",
              "Name: count, dtype: int64"
            ],
            "text/html": [
              "<div>\n",
              "<style scoped>\n",
              "    .dataframe tbody tr th:only-of-type {\n",
              "        vertical-align: middle;\n",
              "    }\n",
              "\n",
              "    .dataframe tbody tr th {\n",
              "        vertical-align: top;\n",
              "    }\n",
              "\n",
              "    .dataframe thead th {\n",
              "        text-align: right;\n",
              "    }\n",
              "</style>\n",
              "<table border=\"1\" class=\"dataframe\">\n",
              "  <thead>\n",
              "    <tr style=\"text-align: right;\">\n",
              "      <th></th>\n",
              "      <th></th>\n",
              "      <th>count</th>\n",
              "    </tr>\n",
              "    <tr>\n",
              "      <th>action</th>\n",
              "      <th>isFraud</th>\n",
              "      <th></th>\n",
              "    </tr>\n",
              "  </thead>\n",
              "  <tbody>\n",
              "    <tr>\n",
              "      <th>CASH_IN</th>\n",
              "      <th>False</th>\n",
              "      <td>14603</td>\n",
              "    </tr>\n",
              "    <tr>\n",
              "      <th>CASH_OUT</th>\n",
              "      <th>False</th>\n",
              "      <td>8314</td>\n",
              "    </tr>\n",
              "    <tr>\n",
              "      <th>DEBIT</th>\n",
              "      <th>False</th>\n",
              "      <td>1718</td>\n",
              "    </tr>\n",
              "    <tr>\n",
              "      <th rowspan=\"2\" valign=\"top\">PAYMENT</th>\n",
              "      <th>False</th>\n",
              "      <td>8276</td>\n",
              "    </tr>\n",
              "    <tr>\n",
              "      <th>True</th>\n",
              "      <td>31</td>\n",
              "    </tr>\n",
              "    <tr>\n",
              "      <th rowspan=\"2\" valign=\"top\">TRANSFER</th>\n",
              "      <th>False</th>\n",
              "      <td>2095</td>\n",
              "    </tr>\n",
              "    <tr>\n",
              "      <th>True</th>\n",
              "      <td>125</td>\n",
              "    </tr>\n",
              "  </tbody>\n",
              "</table>\n",
              "</div><br><label><b>dtype:</b> int64</label>"
            ]
          },
          "metadata": {},
          "execution_count": 20
        }
      ]
    },
    {
      "cell_type": "markdown",
      "source": [
        "For the `PAYMENT` and `TRANSFER` values, we see different proportions. The `TRANSFER` value has a higher ratio of fraudulent transactions than the `PAYMENT` value.\n",
        "\n",
        "Now let us explore the relationship between the different numeric fields and the percentage of fraudulent transactions."
      ],
      "metadata": {
        "id": "oARD7DctJMcm"
      },
      "id": "oARD7DctJMcm"
    },
    {
      "cell_type": "code",
      "source": [
        "transaction_df['amountBkts'] = pd.qcut(transaction_df['amount'], 10)\n",
        "transaction_df.groupby('amountBkts')['isFraud'].mean().plot.bar()"
      ],
      "metadata": {
        "colab": {
          "base_uri": "https://localhost:8080/",
          "height": 630
        },
        "id": "pNbM8SEuvdaH",
        "executionInfo": {
          "status": "ok",
          "timestamp": 1729213597180,
          "user_tz": 240,
          "elapsed": 467,
          "user": {
            "displayName": "",
            "userId": ""
          }
        },
        "outputId": "1d2eb16b-ab91-45ec-9f68-f456674210fc"
      },
      "id": "pNbM8SEuvdaH",
      "execution_count": 22,
      "outputs": [
        {
          "output_type": "stream",
          "name": "stderr",
          "text": [
            "<ipython-input-22-463205bf702b>:2: FutureWarning: The default of observed=False is deprecated and will be changed to True in a future version of pandas. Pass observed=False to retain current behavior or observed=True to adopt the future default and silence this warning.\n",
            "  transaction_df.groupby('amountBkts')['isFraud'].mean().plot.bar()\n"
          ]
        },
        {
          "output_type": "execute_result",
          "data": {
            "text/plain": [
              "<Axes: xlabel='amountBkts'>"
            ]
          },
          "metadata": {},
          "execution_count": 22
        },
        {
          "output_type": "display_data",
          "data": {
            "text/plain": [
              "<Figure size 640x480 with 1 Axes>"
            ],
            "image/png": "[encoded data removed]"
          },
          "metadata": {}
        }
      ]
    },
    {
      "cell_type": "code",
      "source": [
        "transaction_df['oldBalanceOrigBkts'] = pd.qcut(transaction_df['oldBalanceOrig'], 10,\n",
        "                        duplicates='drop')\n",
        "transaction_df.groupby('oldBalanceOrigBkts')['isFraud'].mean().plot.bar()"
      ],
      "metadata": {
        "colab": {
          "base_uri": "https://localhost:8080/",
          "height": 733
        },
        "id": "BxuwydJzvilv",
        "executionInfo": {
          "status": "ok",
          "timestamp": 1729213597522,
          "user_tz": 240,
          "elapsed": 344,
          "user": {
            "displayName": "",
            "userId": ""
          }
        },
        "outputId": "1e920045-640f-4de1-9efd-4b95e8b82d4d"
      },
      "id": "BxuwydJzvilv",
      "execution_count": 23,
      "outputs": [
        {
          "output_type": "stream",
          "name": "stderr",
          "text": [
            "<ipython-input-23-ed30cb199188>:3: FutureWarning: The default of observed=False is deprecated and will be changed to True in a future version of pandas. Pass observed=False to retain current behavior or observed=True to adopt the future default and silence this warning.\n",
            "  transaction_df.groupby('oldBalanceOrigBkts')['isFraud'].mean().plot.bar()\n"
          ]
        },
        {
          "output_type": "execute_result",
          "data": {
            "text/plain": [
              "<Axes: xlabel='oldBalanceOrigBkts'>"
            ]
          },
          "metadata": {},
          "execution_count": 23
        },
        {
          "output_type": "display_data",
          "data": {
            "text/plain": [
              "<Figure size 640x480 with 1 Axes>"
            ],
            "image/png": "[encoded data removed]"
          },
          "metadata": {}
        }
      ]
    },
    {
      "cell_type": "code",
      "source": [
        "transaction_df['newBalanceOrigBkts'] = pd.qcut(transaction_df['newBalanceOrig'], 10,\n",
        "                                              duplicates='drop')\n",
        "transaction_df.groupby('newBalanceOrigBkts')['isFraud'].mean().plot.bar()"
      ],
      "metadata": {
        "colab": {
          "base_uri": "https://localhost:8080/",
          "height": 622
        },
        "id": "6aW9c7Ouvnxo",
        "executionInfo": {
          "status": "ok",
          "timestamp": 1729213597850,
          "user_tz": 240,
          "elapsed": 335,
          "user": {
            "displayName": "",
            "userId": ""
          }
        },
        "outputId": "811de302-a40d-4202-d95b-f47dfd6b4743"
      },
      "id": "6aW9c7Ouvnxo",
      "execution_count": 24,
      "outputs": [
        {
          "output_type": "stream",
          "name": "stderr",
          "text": [
            "<ipython-input-24-0a8ea51ad722>:3: FutureWarning: The default of observed=False is deprecated and will be changed to True in a future version of pandas. Pass observed=False to retain current behavior or observed=True to adopt the future default and silence this warning.\n",
            "  transaction_df.groupby('newBalanceOrigBkts')['isFraud'].mean().plot.bar()\n"
          ]
        },
        {
          "output_type": "execute_result",
          "data": {
            "text/plain": [
              "<Axes: xlabel='newBalanceOrigBkts'>"
            ]
          },
          "metadata": {},
          "execution_count": 24
        },
        {
          "output_type": "display_data",
          "data": {
            "text/plain": [
              "<Figure size 640x480 with 1 Axes>"
            ],
            "image/png": "[encoded data removed]"
          },
          "metadata": {}
        }
      ]
    },
    {
      "cell_type": "code",
      "source": [
        "transaction_df['newBalanceDestBkts'] = pd.qcut(transaction_df['newBalanceDest'], 10,\n",
        "                                              duplicates='drop')\n",
        "transaction_df.groupby('newBalanceDestBkts')['isFraud'].mean().plot.bar()"
      ],
      "metadata": {
        "colab": {
          "base_uri": "https://localhost:8080/",
          "height": 631
        },
        "id": "p2Tk072rv1jj",
        "executionInfo": {
          "status": "ok",
          "timestamp": 1729213598376,
          "user_tz": 240,
          "elapsed": 366,
          "user": {
            "displayName": "",
            "userId": ""
          }
        },
        "outputId": "147509e4-2d65-4cd8-8964-c20ca7886808"
      },
      "id": "p2Tk072rv1jj",
      "execution_count": 25,
      "outputs": [
        {
          "output_type": "stream",
          "name": "stderr",
          "text": [
            "<ipython-input-25-62c063f0feee>:3: FutureWarning: The default of observed=False is deprecated and will be changed to True in a future version of pandas. Pass observed=False to retain current behavior or observed=True to adopt the future default and silence this warning.\n",
            "  transaction_df.groupby('newBalanceDestBkts')['isFraud'].mean().plot.bar()\n"
          ]
        },
        {
          "output_type": "execute_result",
          "data": {
            "text/plain": [
              "<Axes: xlabel='newBalanceDestBkts'>"
            ]
          },
          "metadata": {},
          "execution_count": 25
        },
        {
          "output_type": "display_data",
          "data": {
            "text/plain": [
              "<Figure size 640x480 with 1 Axes>"
            ],
            "image/png": "[encoded data removed]"
          },
          "metadata": {}
        }
      ]
    },
    {
      "cell_type": "code",
      "source": [
        "transaction_df['newBalanceDestBkts'] = pd.qcut(transaction_df['newBalanceDest'], 10,\n",
        "                                              duplicates='drop')\n",
        "transaction_df.groupby('newBalanceDestBkts')['isFraud'].mean().plot.bar()"
      ],
      "metadata": {
        "colab": {
          "base_uri": "https://localhost:8080/",
          "height": 631
        },
        "id": "ssNihGV5v8J9",
        "executionInfo": {
          "status": "ok",
          "timestamp": 1729213598899,
          "user_tz": 240,
          "elapsed": 351,
          "user": {
            "displayName": "",
            "userId": ""
          }
        },
        "outputId": "7918f3cb-66bc-4790-aa35-22b99503fe59"
      },
      "id": "ssNihGV5v8J9",
      "execution_count": 26,
      "outputs": [
        {
          "output_type": "stream",
          "name": "stderr",
          "text": [
            "<ipython-input-26-62c063f0feee>:3: FutureWarning: The default of observed=False is deprecated and will be changed to True in a future version of pandas. Pass observed=False to retain current behavior or observed=True to adopt the future default and silence this warning.\n",
            "  transaction_df.groupby('newBalanceDestBkts')['isFraud'].mean().plot.bar()\n"
          ]
        },
        {
          "output_type": "execute_result",
          "data": {
            "text/plain": [
              "<Axes: xlabel='newBalanceDestBkts'>"
            ]
          },
          "metadata": {},
          "execution_count": 26
        },
        {
          "output_type": "display_data",
          "data": {
            "text/plain": [
              "<Figure size 640x480 with 1 Axes>"
            ],
            "image/png": "[encoded data removed]"
          },
          "metadata": {}
        }
      ]
    },
    {
      "cell_type": "markdown",
      "source": [
        "There's not a clear linear relationship, but there is some sort of relationship. This is a good indicator that we want to bucketize the numeric columns. Let's remove the `_Bkts` columns we created since we can use Keras to create the bucketized columns more directly later."
      ],
      "metadata": {
        "id": "UoWKQWBjKZye"
      },
      "id": "UoWKQWBjKZye"
    },
    {
      "cell_type": "code",
      "source": [
        "for col in ['amountBkts', 'oldBalanceOrigBkts',\n",
        "            'newBalanceOrigBkts', 'newBalanceDestBkts']:\n",
        "  transaction_df.pop(col)"
      ],
      "metadata": {
        "id": "VrQNCmkR0kUd",
        "executionInfo": {
          "status": "ok",
          "timestamp": 1729213872866,
          "user_tz": 240,
          "elapsed": 154,
          "user": {
            "displayName": "",
            "userId": ""
          }
        }
      },
      "id": "VrQNCmkR0kUd",
      "execution_count": 27,
      "outputs": []
    },
    {
      "cell_type": "markdown",
      "source": [
        "We will now split the data into training, validation and test datasets. We will split the data into 80% training, 10% validation and 10% testing.\n",
        "\n"
      ],
      "metadata": {
        "id": "QXNcOq9fLfUE"
      },
      "id": "QXNcOq9fLfUE"
    },
    {
      "cell_type": "code",
      "source": [
        "from sklearn.model_selection import train_test_split\n",
        "\n",
        "y = transaction_df.pop('isFraud').astype(int)\n",
        "\n",
        "X_train, X_r, y_train, y_r = train_test_split(transaction_df, y, test_size=0.2)\n",
        "X_eval, X_test, y_eval, y_test = train_test_split(X_r, y_r, test_size=0.5)"
      ],
      "metadata": {
        "id": "wvswmflXw4n8",
        "executionInfo": {
          "status": "ok",
          "timestamp": 1729213991546,
          "user_tz": 240,
          "elapsed": 335,
          "user": {
            "displayName": "",
            "userId": ""
          }
        }
      },
      "id": "wvswmflXw4n8",
      "execution_count": 28,
      "outputs": []
    },
    {
      "cell_type": "markdown",
      "source": [
        "Create the inputs for the Keras model and pack them into a dictionary."
      ],
      "metadata": {
        "id": "UXvqE17hL6NT"
      },
      "id": "UXvqE17hL6NT"
    },
    {
      "cell_type": "code",
      "source": [
        "num_cols = ['oldBalanceOrig', 'newBalanceOrig', 'amount',\n",
        "            'oldBalanceDest', 'newBalanceDest','isUnauthorizedOverdraft','step']\n",
        "cat_cols = ['action', 'idOrig', 'idDest']\n",
        "\n",
        "inputs = {}\n",
        "\n",
        "for col in cat_cols:\n",
        "  inputs[col] = tf.keras.Input(shape=(1,), name=col,\n",
        "                               dtype = tf.string)\n",
        "\n",
        "for col in num_cols:\n",
        "  inputs[col] = tf.keras.Input(shape=(1,), name=col, dtype = tf.int64)\n",
        "\n",
        "inputs"
      ],
      "metadata": {
        "colab": {
          "base_uri": "https://localhost:8080/"
        },
        "id": "CGHuzG_MwW-u",
        "executionInfo": {
          "status": "ok",
          "timestamp": 1729214151388,
          "user_tz": 240,
          "elapsed": 124,
          "user": {
            "displayName": "",
            "userId": ""
          }
        },
        "outputId": "8372a3bc-d734-4d25-d2b6-4765ba59968b"
      },
      "id": "CGHuzG_MwW-u",
      "execution_count": 30,
      "outputs": [
        {
          "output_type": "execute_result",
          "data": {
            "text/plain": [
              "{'action': <KerasTensor shape=(None, 1), dtype=string, sparse=None, name=action>,\n",
              " 'idOrig': <KerasTensor shape=(None, 1), dtype=string, sparse=None, name=idOrig>,\n",
              " 'idDest': <KerasTensor shape=(None, 1), dtype=string, sparse=None, name=idDest>,\n",
              " 'oldBalanceOrig': <KerasTensor shape=(None, 1), dtype=int64, sparse=None, name=oldBalanceOrig>,\n",
              " 'newBalanceOrig': <KerasTensor shape=(None, 1), dtype=int64, sparse=None, name=newBalanceOrig>,\n",
              " 'amount': <KerasTensor shape=(None, 1), dtype=int64, sparse=None, name=amount>,\n",
              " 'oldBalanceDest': <KerasTensor shape=(None, 1), dtype=int64, sparse=None, name=oldBalanceDest>,\n",
              " 'newBalanceDest': <KerasTensor shape=(None, 1), dtype=int64, sparse=None, name=newBalanceDest>,\n",
              " 'isUnauthorizedOverdraft': <KerasTensor shape=(None, 1), dtype=int64, sparse=None, name=isUnauthorizedOverdraft>,\n",
              " 'step': <KerasTensor shape=(None, 1), dtype=int64, sparse=None, name=step>}"
            ]
          },
          "metadata": {},
          "execution_count": 30
        }
      ]
    },
    {
      "cell_type": "markdown",
      "source": [
        "Create the preprocessed layers and pack them into a dictionary."
      ],
      "metadata": {
        "id": "heavrJLAMZUX"
      },
      "id": "heavrJLAMZUX"
    },
    {
      "cell_type": "code",
      "source": [
        "preproc_layers = {}\n",
        "\n",
        "for col in cat_cols:\n",
        "  if col == 'action':\n",
        "    layer = StringLookup(output_mode='one_hot')\n",
        "    layer.adapt(X_train[col])\n",
        "  elif type(X_train[col].dtype) == np.dtypes.ObjectDType:\n",
        "    layer = Hashing(100, output_mode='one_hot')\n",
        "  elif type(X_train[col].dtype) == np.dtypes.Int64DType:\n",
        "    layer = IntegerLookup(output_mode='one_hot')\n",
        "    layer.adapt(X_train[col])\n",
        "  preproc_layers[col] = layer(inputs[col])\n",
        "\n",
        "for col in ['oldBalanceOrig', 'newBalanceOrig', 'amount',\n",
        "            'oldBalanceDest', 'newBalanceDest']:\n",
        "  # layer = Discretization(num_bins=10,\n",
        "  #                        output_mode='one_hot')\n",
        "  # layer.adapt(X_train[col])\n",
        "  preproc_layers[col] = inputs[col]\n",
        "\n",
        "preproc_layers['isUnauthorizedDraft'] = inputs['isUnauthorizedOverdraft']\n",
        "\n",
        "preproc_layers"
      ],
      "metadata": {
        "colab": {
          "base_uri": "https://localhost:8080/"
        },
        "id": "CHFGn4SqxcHe",
        "executionInfo": {
          "status": "ok",
          "timestamp": 1729214153156,
          "user_tz": 240,
          "elapsed": 162,
          "user": {
            "displayName": "",
            "userId": ""
          }
        },
        "outputId": "5963b611-86bc-4f41-ecf6-cce9910e38d6"
      },
      "id": "CHFGn4SqxcHe",
      "execution_count": 31,
      "outputs": [
        {
          "output_type": "execute_result",
          "data": {
            "text/plain": [
              "{'action': <KerasTensor shape=(None, 6), dtype=float32, sparse=False, name=keras_tensor>,\n",
              " 'idOrig': <KerasTensor shape=(None, 100), dtype=float32, sparse=False, name=keras_tensor_1>,\n",
              " 'idDest': <KerasTensor shape=(None, 100), dtype=float32, sparse=False, name=keras_tensor_2>,\n",
              " 'oldBalanceOrig': <KerasTensor shape=(None, 1), dtype=int64, sparse=None, name=oldBalanceOrig>,\n",
              " 'newBalanceOrig': <KerasTensor shape=(None, 1), dtype=int64, sparse=None, name=newBalanceOrig>,\n",
              " 'amount': <KerasTensor shape=(None, 1), dtype=int64, sparse=None, name=amount>,\n",
              " 'oldBalanceDest': <KerasTensor shape=(None, 1), dtype=int64, sparse=None, name=oldBalanceDest>,\n",
              " 'newBalanceDest': <KerasTensor shape=(None, 1), dtype=int64, sparse=None, name=newBalanceDest>,\n",
              " 'isUnauthorizedDraft': <KerasTensor shape=(None, 1), dtype=int64, sparse=None, name=isUnauthorizedOverdraft>}"
            ]
          },
          "metadata": {},
          "execution_count": 31
        }
      ]
    },
    {
      "cell_type": "markdown",
      "source": [
        "Create a candidate model architecture and train the model."
      ],
      "metadata": {
        "id": "swRXP3gcMmOc"
      },
      "id": "swRXP3gcMmOc"
    },
    {
      "cell_type": "code",
      "source": [
        "prepared_layer = Concatenate()(list(preproc_layers.values()))"
      ],
      "metadata": {
        "id": "794A7pU-0uiY",
        "executionInfo": {
          "status": "ok",
          "timestamp": 1729214196943,
          "user_tz": 240,
          "elapsed": 132,
          "user": {
            "displayName": "",
            "userId": ""
          }
        }
      },
      "id": "794A7pU-0uiY",
      "execution_count": 32,
      "outputs": []
    },
    {
      "cell_type": "code",
      "source": [
        "hid_1 = tf.keras.layers.Dense(32, activation='relu')(prepared_layer)\n",
        "hid_2 = tf.keras.layers.Dense(16, activation='relu')(hid_1)\n",
        "embedding = tf.keras.layers.Dense(10, activation='relu')(hid_2)\n",
        "hid_3 = tf.keras.layers.Dense(16, activation='relu')(embedding)\n",
        "hid_4 = tf.keras.layers.Dense(32, activation='relu')(hid_3)\n",
        "decoded = tf.keras.layers.Dense(212, activation='linear')(hid_4)\n",
        "\n",
        "dnn_input = Concatenate()([decoded, prepared_layer])\n",
        "hid_5 = tf.keras.layers.Dense(32, activation='relu')(dnn_input)\n",
        "hid_6 = tf.keras.layers.Dense(16, activation='relu')(hid_5)\n",
        "output = tf.keras.layers.Dense(1, activation='sigmoid')(hid_6)\n",
        "\n",
        "metrics = [tf.keras.metrics.BinaryAccuracy(),\n",
        "           tf.keras.metrics.Precision(),\n",
        "           tf.keras.metrics.Recall(),\n",
        "           tf.keras.metrics.AUC(curve='PR')]\n",
        "\n",
        "model = tf.keras.Model(inputs=inputs, outputs=output)\n",
        "model.compile(loss=tf.keras.losses.BinaryFocalCrossentropy(apply_class_balancing=True), metrics=metrics)\n",
        "model.summary()"
      ],
      "metadata": {
        "id": "z3CpzBiY3AvF",
        "executionInfo": {
          "status": "ok",
          "timestamp": 1729214200410,
          "user_tz": 240,
          "elapsed": 295,
          "user": {
            "displayName": "",
            "userId": ""
          }
        },
        "colab": {
          "base_uri": "https://localhost:8080/",
          "height": 1000
        },
        "outputId": "89af9472-4547-4cc0-9aaf-f0710bc3c66c"
      },
      "id": "z3CpzBiY3AvF",
      "execution_count": 33,
      "outputs": [
        {
          "output_type": "display_data",
          "data": {
            "text/plain": [
              "\u001b[1mModel: \"functional\"\u001b[0m\n"
            ],
            "text/html": [
              "<pre style=\"white-space:pre;overflow-x:auto;line-height:normal;font-family:Menlo,'DejaVu Sans Mono',consolas,'Courier New',monospace\"><span style=\"font-weight: bold\">Model: \"functional\"</span>\n",
              "</pre>\n"
            ]
          },
          "metadata": {}
        },
        {
          "output_type": "display_data",
          "data": {
            "text/plain": [
              "┏━━━━━━━━━━━━━━━━━━━━━━━━━━━┳━━━━━━━━━━━━━━━━━━━━━━━━┳━━━━━━━━━━━━━━━━┳━━━━━━━━━━━━━━━━━━━━━━━━┓\n",
              "┃\u001b[1m \u001b[0m\u001b[1mLayer (type)             \u001b[0m\u001b[1m \u001b[0m┃\u001b[1m \u001b[0m\u001b[1mOutput Shape          \u001b[0m\u001b[1m \u001b[0m┃\u001b[1m \u001b[0m\u001b[1m       Param #\u001b[0m\u001b[1m \u001b[0m┃\u001b[1m \u001b[0m\u001b[1mConnected to          \u001b[0m\u001b[1m \u001b[0m┃\n",
              "┡━━━━━━━━━━━━━━━━━━━━━━━━━━━╇━━━━━━━━━━━━━━━━━━━━━━━━╇━━━━━━━━━━━━━━━━╇━━━━━━━━━━━━━━━━━━━━━━━━┩\n",
              "│ action (\u001b[38;5;33mInputLayer\u001b[0m)       │ (\u001b[38;5;45mNone\u001b[0m, \u001b[38;5;34m1\u001b[0m)              │              \u001b[38;5;34m0\u001b[0m │ -                      │\n",
              "├───────────────────────────┼────────────────────────┼────────────────┼────────────────────────┤\n",
              "│ idOrig (\u001b[38;5;33mInputLayer\u001b[0m)       │ (\u001b[38;5;45mNone\u001b[0m, \u001b[38;5;34m1\u001b[0m)              │              \u001b[38;5;34m0\u001b[0m │ -                      │\n",
              "├───────────────────────────┼────────────────────────┼────────────────┼────────────────────────┤\n",
              "│ idDest (\u001b[38;5;33mInputLayer\u001b[0m)       │ (\u001b[38;5;45mNone\u001b[0m, \u001b[38;5;34m1\u001b[0m)              │              \u001b[38;5;34m0\u001b[0m │ -                      │\n",
              "├───────────────────────────┼────────────────────────┼────────────────┼────────────────────────┤\n",
              "│ string_lookup             │ (\u001b[38;5;45mNone\u001b[0m, \u001b[38;5;34m6\u001b[0m)              │              \u001b[38;5;34m0\u001b[0m │ action[\u001b[38;5;34m0\u001b[0m][\u001b[38;5;34m0\u001b[0m]           │\n",
              "│ (\u001b[38;5;33mStringLookup\u001b[0m)            │                        │                │                        │\n",
              "├───────────────────────────┼────────────────────────┼────────────────┼────────────────────────┤\n",
              "│ hashing (\u001b[38;5;33mHashing\u001b[0m)         │ (\u001b[38;5;45mNone\u001b[0m, \u001b[38;5;34m100\u001b[0m)            │              \u001b[38;5;34m0\u001b[0m │ idOrig[\u001b[38;5;34m0\u001b[0m][\u001b[38;5;34m0\u001b[0m]           │\n",
              "├───────────────────────────┼────────────────────────┼────────────────┼────────────────────────┤\n",
              "│ hashing_1 (\u001b[38;5;33mHashing\u001b[0m)       │ (\u001b[38;5;45mNone\u001b[0m, \u001b[38;5;34m100\u001b[0m)            │              \u001b[38;5;34m0\u001b[0m │ idDest[\u001b[38;5;34m0\u001b[0m][\u001b[38;5;34m0\u001b[0m]           │\n",
              "├───────────────────────────┼────────────────────────┼────────────────┼────────────────────────┤\n",
              "│ oldBalanceOrig            │ (\u001b[38;5;45mNone\u001b[0m, \u001b[38;5;34m1\u001b[0m)              │              \u001b[38;5;34m0\u001b[0m │ -                      │\n",
              "│ (\u001b[38;5;33mInputLayer\u001b[0m)              │                        │                │                        │\n",
              "├───────────────────────────┼────────────────────────┼────────────────┼────────────────────────┤\n",
              "│ newBalanceOrig            │ (\u001b[38;5;45mNone\u001b[0m, \u001b[38;5;34m1\u001b[0m)              │              \u001b[38;5;34m0\u001b[0m │ -                      │\n",
              "│ (\u001b[38;5;33mInputLayer\u001b[0m)              │                        │                │                        │\n",
              "├───────────────────────────┼────────────────────────┼────────────────┼────────────────────────┤\n",
              "│ amount (\u001b[38;5;33mInputLayer\u001b[0m)       │ (\u001b[38;5;45mNone\u001b[0m, \u001b[38;5;34m1\u001b[0m)              │              \u001b[38;5;34m0\u001b[0m │ -                      │\n",
              "├───────────────────────────┼────────────────────────┼────────────────┼────────────────────────┤\n",
              "│ oldBalanceDest            │ (\u001b[38;5;45mNone\u001b[0m, \u001b[38;5;34m1\u001b[0m)              │              \u001b[38;5;34m0\u001b[0m │ -                      │\n",
              "│ (\u001b[38;5;33mInputLayer\u001b[0m)              │                        │                │                        │\n",
              "├───────────────────────────┼────────────────────────┼────────────────┼────────────────────────┤\n",
              "│ newBalanceDest            │ (\u001b[38;5;45mNone\u001b[0m, \u001b[38;5;34m1\u001b[0m)              │              \u001b[38;5;34m0\u001b[0m │ -                      │\n",
              "│ (\u001b[38;5;33mInputLayer\u001b[0m)              │                        │                │                        │\n",
              "├───────────────────────────┼────────────────────────┼────────────────┼────────────────────────┤\n",
              "│ isUnauthorizedOverdraft   │ (\u001b[38;5;45mNone\u001b[0m, \u001b[38;5;34m1\u001b[0m)              │              \u001b[38;5;34m0\u001b[0m │ -                      │\n",
              "│ (\u001b[38;5;33mInputLayer\u001b[0m)              │                        │                │                        │\n",
              "├───────────────────────────┼────────────────────────┼────────────────┼────────────────────────┤\n",
              "│ concatenate (\u001b[38;5;33mConcatenate\u001b[0m) │ (\u001b[38;5;45mNone\u001b[0m, \u001b[38;5;34m212\u001b[0m)            │              \u001b[38;5;34m0\u001b[0m │ string_lookup[\u001b[38;5;34m0\u001b[0m][\u001b[38;5;34m0\u001b[0m],   │\n",
              "│                           │                        │                │ hashing[\u001b[38;5;34m0\u001b[0m][\u001b[38;5;34m0\u001b[0m],         │\n",
              "│                           │                        │                │ hashing_1[\u001b[38;5;34m0\u001b[0m][\u001b[38;5;34m0\u001b[0m],       │\n",
              "│                           │                        │                │ oldBalanceOrig[\u001b[38;5;34m0\u001b[0m][\u001b[38;5;34m0\u001b[0m],  │\n",
              "│                           │                        │                │ newBalanceOrig[\u001b[38;5;34m0\u001b[0m][\u001b[38;5;34m0\u001b[0m],  │\n",
              "│                           │                        │                │ amount[\u001b[38;5;34m0\u001b[0m][\u001b[38;5;34m0\u001b[0m],          │\n",
              "│                           │                        │                │ oldBalanceDest[\u001b[38;5;34m0\u001b[0m][\u001b[38;5;34m0\u001b[0m],  │\n",
              "│                           │                        │                │ newBalanceDest[\u001b[38;5;34m0\u001b[0m][\u001b[38;5;34m0\u001b[0m],  │\n",
              "│                           │                        │                │ isUnauthorizedOverdra… │\n",
              "├───────────────────────────┼────────────────────────┼────────────────┼────────────────────────┤\n",
              "│ dense (\u001b[38;5;33mDense\u001b[0m)             │ (\u001b[38;5;45mNone\u001b[0m, \u001b[38;5;34m32\u001b[0m)             │          \u001b[38;5;34m6,816\u001b[0m │ concatenate[\u001b[38;5;34m0\u001b[0m][\u001b[38;5;34m0\u001b[0m]      │\n",
              "├───────────────────────────┼────────────────────────┼────────────────┼────────────────────────┤\n",
              "│ dense_1 (\u001b[38;5;33mDense\u001b[0m)           │ (\u001b[38;5;45mNone\u001b[0m, \u001b[38;5;34m16\u001b[0m)             │            \u001b[38;5;34m528\u001b[0m │ dense[\u001b[38;5;34m0\u001b[0m][\u001b[38;5;34m0\u001b[0m]            │\n",
              "├───────────────────────────┼────────────────────────┼────────────────┼────────────────────────┤\n",
              "│ dense_2 (\u001b[38;5;33mDense\u001b[0m)           │ (\u001b[38;5;45mNone\u001b[0m, \u001b[38;5;34m10\u001b[0m)             │            \u001b[38;5;34m170\u001b[0m │ dense_1[\u001b[38;5;34m0\u001b[0m][\u001b[38;5;34m0\u001b[0m]          │\n",
              "├───────────────────────────┼────────────────────────┼────────────────┼────────────────────────┤\n",
              "│ dense_3 (\u001b[38;5;33mDense\u001b[0m)           │ (\u001b[38;5;45mNone\u001b[0m, \u001b[38;5;34m16\u001b[0m)             │            \u001b[38;5;34m176\u001b[0m │ dense_2[\u001b[38;5;34m0\u001b[0m][\u001b[38;5;34m0\u001b[0m]          │\n",
              "├───────────────────────────┼────────────────────────┼────────────────┼────────────────────────┤\n",
              "│ dense_4 (\u001b[38;5;33mDense\u001b[0m)           │ (\u001b[38;5;45mNone\u001b[0m, \u001b[38;5;34m32\u001b[0m)             │            \u001b[38;5;34m544\u001b[0m │ dense_3[\u001b[38;5;34m0\u001b[0m][\u001b[38;5;34m0\u001b[0m]          │\n",
              "├───────────────────────────┼────────────────────────┼────────────────┼────────────────────────┤\n",
              "│ dense_5 (\u001b[38;5;33mDense\u001b[0m)           │ (\u001b[38;5;45mNone\u001b[0m, \u001b[38;5;34m212\u001b[0m)            │          \u001b[38;5;34m6,996\u001b[0m │ dense_4[\u001b[38;5;34m0\u001b[0m][\u001b[38;5;34m0\u001b[0m]          │\n",
              "├───────────────────────────┼────────────────────────┼────────────────┼────────────────────────┤\n",
              "│ concatenate_1             │ (\u001b[38;5;45mNone\u001b[0m, \u001b[38;5;34m424\u001b[0m)            │              \u001b[38;5;34m0\u001b[0m │ dense_5[\u001b[38;5;34m0\u001b[0m][\u001b[38;5;34m0\u001b[0m],         │\n",
              "│ (\u001b[38;5;33mConcatenate\u001b[0m)             │                        │                │ concatenate[\u001b[38;5;34m0\u001b[0m][\u001b[38;5;34m0\u001b[0m]      │\n",
              "├───────────────────────────┼────────────────────────┼────────────────┼────────────────────────┤\n",
              "│ dense_6 (\u001b[38;5;33mDense\u001b[0m)           │ (\u001b[38;5;45mNone\u001b[0m, \u001b[38;5;34m32\u001b[0m)             │         \u001b[38;5;34m13,600\u001b[0m │ concatenate_1[\u001b[38;5;34m0\u001b[0m][\u001b[38;5;34m0\u001b[0m]    │\n",
              "├───────────────────────────┼────────────────────────┼────────────────┼────────────────────────┤\n",
              "│ dense_7 (\u001b[38;5;33mDense\u001b[0m)           │ (\u001b[38;5;45mNone\u001b[0m, \u001b[38;5;34m16\u001b[0m)             │            \u001b[38;5;34m528\u001b[0m │ dense_6[\u001b[38;5;34m0\u001b[0m][\u001b[38;5;34m0\u001b[0m]          │\n",
              "├───────────────────────────┼────────────────────────┼────────────────┼────────────────────────┤\n",
              "│ step (\u001b[38;5;33mInputLayer\u001b[0m)         │ (\u001b[38;5;45mNone\u001b[0m, \u001b[38;5;34m1\u001b[0m)              │              \u001b[38;5;34m0\u001b[0m │ -                      │\n",
              "├───────────────────────────┼────────────────────────┼────────────────┼────────────────────────┤\n",
              "│ dense_8 (\u001b[38;5;33mDense\u001b[0m)           │ (\u001b[38;5;45mNone\u001b[0m, \u001b[38;5;34m1\u001b[0m)              │             \u001b[38;5;34m17\u001b[0m │ dense_7[\u001b[38;5;34m0\u001b[0m][\u001b[38;5;34m0\u001b[0m]          │\n",
              "└───────────────────────────┴────────────────────────┴────────────────┴────────────────────────┘\n"
            ],
            "text/html": [
              "<pre style=\"white-space:pre;overflow-x:auto;line-height:normal;font-family:Menlo,'DejaVu Sans Mono',consolas,'Courier New',monospace\">┏━━━━━━━━━━━━━━━━━━━━━━━━━━━┳━━━━━━━━━━━━━━━━━━━━━━━━┳━━━━━━━━━━━━━━━━┳━━━━━━━━━━━━━━━━━━━━━━━━┓\n",
              "┃<span style=\"font-weight: bold\"> Layer (type)              </span>┃<span style=\"font-weight: bold\"> Output Shape           </span>┃<span style=\"font-weight: bold\">        Param # </span>┃<span style=\"font-weight: bold\"> Connected to           </span>┃\n",
              "┡━━━━━━━━━━━━━━━━━━━━━━━━━━━╇━━━━━━━━━━━━━━━━━━━━━━━━╇━━━━━━━━━━━━━━━━╇━━━━━━━━━━━━━━━━━━━━━━━━┩\n",
              "│ action (<span style=\"color: #0087ff; text-decoration-color: #0087ff\">InputLayer</span>)       │ (<span style=\"color: #00d7ff; text-decoration-color: #00d7ff\">None</span>, <span style=\"color: #00af00; text-decoration-color: #00af00\">1</span>)              │              <span style=\"color: #00af00; text-decoration-color: #00af00\">0</span> │ -                      │\n",
              "├───────────────────────────┼────────────────────────┼────────────────┼────────────────────────┤\n",
              "│ idOrig (<span style=\"color: #0087ff; text-decoration-color: #0087ff\">InputLayer</span>)       │ (<span style=\"color: #00d7ff; text-decoration-color: #00d7ff\">None</span>, <span style=\"color: #00af00; text-decoration-color: #00af00\">1</span>)              │              <span style=\"color: #00af00; text-decoration-color: #00af00\">0</span> │ -                      │\n",
              "├───────────────────────────┼────────────────────────┼────────────────┼────────────────────────┤\n",
              "│ idDest (<span style=\"color: #0087ff; text-decoration-color: #0087ff\">InputLayer</span>)       │ (<span style=\"color: #00d7ff; text-decoration-color: #00d7ff\">None</span>, <span style=\"color: #00af00; text-decoration-color: #00af00\">1</span>)              │              <span style=\"color: #00af00; text-decoration-color: #00af00\">0</span> │ -                      │\n",
              "├───────────────────────────┼────────────────────────┼────────────────┼────────────────────────┤\n",
              "│ string_lookup             │ (<span style=\"color: #00d7ff; text-decoration-color: #00d7ff\">None</span>, <span style=\"color: #00af00; text-decoration-color: #00af00\">6</span>)              │              <span style=\"color: #00af00; text-decoration-color: #00af00\">0</span> │ action[<span style=\"color: #00af00; text-decoration-color: #00af00\">0</span>][<span style=\"color: #00af00; text-decoration-color: #00af00\">0</span>]           │\n",
              "│ (<span style=\"color: #0087ff; text-decoration-color: #0087ff\">StringLookup</span>)            │                        │                │                        │\n",
              "├───────────────────────────┼────────────────────────┼────────────────┼────────────────────────┤\n",
              "│ hashing (<span style=\"color: #0087ff; text-decoration-color: #0087ff\">Hashing</span>)         │ (<span style=\"color: #00d7ff; text-decoration-color: #00d7ff\">None</span>, <span style=\"color: #00af00; text-decoration-color: #00af00\">100</span>)            │              <span style=\"color: #00af00; text-decoration-color: #00af00\">0</span> │ idOrig[<span style=\"color: #00af00; text-decoration-color: #00af00\">0</span>][<span style=\"color: #00af00; text-decoration-color: #00af00\">0</span>]           │\n",
              "├───────────────────────────┼────────────────────────┼────────────────┼────────────────────────┤\n",
              "│ hashing_1 (<span style=\"color: #0087ff; text-decoration-color: #0087ff\">Hashing</span>)       │ (<span style=\"color: #00d7ff; text-decoration-color: #00d7ff\">None</span>, <span style=\"color: #00af00; text-decoration-color: #00af00\">100</span>)            │              <span style=\"color: #00af00; text-decoration-color: #00af00\">0</span> │ idDest[<span style=\"color: #00af00; text-decoration-color: #00af00\">0</span>][<span style=\"color: #00af00; text-decoration-color: #00af00\">0</span>]           │\n",
              "├───────────────────────────┼────────────────────────┼────────────────┼────────────────────────┤\n",
              "│ oldBalanceOrig            │ (<span style=\"color: #00d7ff; text-decoration-color: #00d7ff\">None</span>, <span style=\"color: #00af00; text-decoration-color: #00af00\">1</span>)              │              <span style=\"color: #00af00; text-decoration-color: #00af00\">0</span> │ -                      │\n",
              "│ (<span style=\"color: #0087ff; text-decoration-color: #0087ff\">InputLayer</span>)              │                        │                │                        │\n",
              "├───────────────────────────┼────────────────────────┼────────────────┼────────────────────────┤\n",
              "│ newBalanceOrig            │ (<span style=\"color: #00d7ff; text-decoration-color: #00d7ff\">None</span>, <span style=\"color: #00af00; text-decoration-color: #00af00\">1</span>)              │              <span style=\"color: #00af00; text-decoration-color: #00af00\">0</span> │ -                      │\n",
              "│ (<span style=\"color: #0087ff; text-decoration-color: #0087ff\">InputLayer</span>)              │                        │                │                        │\n",
              "├───────────────────────────┼────────────────────────┼────────────────┼────────────────────────┤\n",
              "│ amount (<span style=\"color: #0087ff; text-decoration-color: #0087ff\">InputLayer</span>)       │ (<span style=\"color: #00d7ff; text-decoration-color: #00d7ff\">None</span>, <span style=\"color: #00af00; text-decoration-color: #00af00\">1</span>)              │              <span style=\"color: #00af00; text-decoration-color: #00af00\">0</span> │ -                      │\n",
              "├───────────────────────────┼────────────────────────┼────────────────┼────────────────────────┤\n",
              "│ oldBalanceDest            │ (<span style=\"color: #00d7ff; text-decoration-color: #00d7ff\">None</span>, <span style=\"color: #00af00; text-decoration-color: #00af00\">1</span>)              │              <span style=\"color: #00af00; text-decoration-color: #00af00\">0</span> │ -                      │\n",
              "│ (<span style=\"color: #0087ff; text-decoration-color: #0087ff\">InputLayer</span>)              │                        │                │                        │\n",
              "├───────────────────────────┼────────────────────────┼────────────────┼────────────────────────┤\n",
              "│ newBalanceDest            │ (<span style=\"color: #00d7ff; text-decoration-color: #00d7ff\">None</span>, <span style=\"color: #00af00; text-decoration-color: #00af00\">1</span>)              │              <span style=\"color: #00af00; text-decoration-color: #00af00\">0</span> │ -                      │\n",
              "│ (<span style=\"color: #0087ff; text-decoration-color: #0087ff\">InputLayer</span>)              │                        │                │                        │\n",
              "├───────────────────────────┼────────────────────────┼────────────────┼────────────────────────┤\n",
              "│ isUnauthorizedOverdraft   │ (<span style=\"color: #00d7ff; text-decoration-color: #00d7ff\">None</span>, <span style=\"color: #00af00; text-decoration-color: #00af00\">1</span>)              │              <span style=\"color: #00af00; text-decoration-color: #00af00\">0</span> │ -                      │\n",
              "│ (<span style=\"color: #0087ff; text-decoration-color: #0087ff\">InputLayer</span>)              │                        │                │                        │\n",
              "├───────────────────────────┼────────────────────────┼────────────────┼────────────────────────┤\n",
              "│ concatenate (<span style=\"color: #0087ff; text-decoration-color: #0087ff\">Concatenate</span>) │ (<span style=\"color: #00d7ff; text-decoration-color: #00d7ff\">None</span>, <span style=\"color: #00af00; text-decoration-color: #00af00\">212</span>)            │              <span style=\"color: #00af00; text-decoration-color: #00af00\">0</span> │ string_lookup[<span style=\"color: #00af00; text-decoration-color: #00af00\">0</span>][<span style=\"color: #00af00; text-decoration-color: #00af00\">0</span>],   │\n",
              "│                           │                        │                │ hashing[<span style=\"color: #00af00; text-decoration-color: #00af00\">0</span>][<span style=\"color: #00af00; text-decoration-color: #00af00\">0</span>],         │\n",
              "│                           │                        │                │ hashing_1[<span style=\"color: #00af00; text-decoration-color: #00af00\">0</span>][<span style=\"color: #00af00; text-decoration-color: #00af00\">0</span>],       │\n",
              "│                           │                        │                │ oldBalanceOrig[<span style=\"color: #00af00; text-decoration-color: #00af00\">0</span>][<span style=\"color: #00af00; text-decoration-color: #00af00\">0</span>],  │\n",
              "│                           │                        │                │ newBalanceOrig[<span style=\"color: #00af00; text-decoration-color: #00af00\">0</span>][<span style=\"color: #00af00; text-decoration-color: #00af00\">0</span>],  │\n",
              "│                           │                        │                │ amount[<span style=\"color: #00af00; text-decoration-color: #00af00\">0</span>][<span style=\"color: #00af00; text-decoration-color: #00af00\">0</span>],          │\n",
              "│                           │                        │                │ oldBalanceDest[<span style=\"color: #00af00; text-decoration-color: #00af00\">0</span>][<span style=\"color: #00af00; text-decoration-color: #00af00\">0</span>],  │\n",
              "│                           │                        │                │ newBalanceDest[<span style=\"color: #00af00; text-decoration-color: #00af00\">0</span>][<span style=\"color: #00af00; text-decoration-color: #00af00\">0</span>],  │\n",
              "│                           │                        │                │ isUnauthorizedOverdra… │\n",
              "├───────────────────────────┼────────────────────────┼────────────────┼────────────────────────┤\n",
              "│ dense (<span style=\"color: #0087ff; text-decoration-color: #0087ff\">Dense</span>)             │ (<span style=\"color: #00d7ff; text-decoration-color: #00d7ff\">None</span>, <span style=\"color: #00af00; text-decoration-color: #00af00\">32</span>)             │          <span style=\"color: #00af00; text-decoration-color: #00af00\">6,816</span> │ concatenate[<span style=\"color: #00af00; text-decoration-color: #00af00\">0</span>][<span style=\"color: #00af00; text-decoration-color: #00af00\">0</span>]      │\n",
              "├───────────────────────────┼────────────────────────┼────────────────┼────────────────────────┤\n",
              "│ dense_1 (<span style=\"color: #0087ff; text-decoration-color: #0087ff\">Dense</span>)           │ (<span style=\"color: #00d7ff; text-decoration-color: #00d7ff\">None</span>, <span style=\"color: #00af00; text-decoration-color: #00af00\">16</span>)             │            <span style=\"color: #00af00; text-decoration-color: #00af00\">528</span> │ dense[<span style=\"color: #00af00; text-decoration-color: #00af00\">0</span>][<span style=\"color: #00af00; text-decoration-color: #00af00\">0</span>]            │\n",
              "├───────────────────────────┼────────────────────────┼────────────────┼────────────────────────┤\n",
              "│ dense_2 (<span style=\"color: #0087ff; text-decoration-color: #0087ff\">Dense</span>)           │ (<span style=\"color: #00d7ff; text-decoration-color: #00d7ff\">None</span>, <span style=\"color: #00af00; text-decoration-color: #00af00\">10</span>)             │            <span style=\"color: #00af00; text-decoration-color: #00af00\">170</span> │ dense_1[<span style=\"color: #00af00; text-decoration-color: #00af00\">0</span>][<span style=\"color: #00af00; text-decoration-color: #00af00\">0</span>]          │\n",
              "├───────────────────────────┼────────────────────────┼────────────────┼────────────────────────┤\n",
              "│ dense_3 (<span style=\"color: #0087ff; text-decoration-color: #0087ff\">Dense</span>)           │ (<span style=\"color: #00d7ff; text-decoration-color: #00d7ff\">None</span>, <span style=\"color: #00af00; text-decoration-color: #00af00\">16</span>)             │            <span style=\"color: #00af00; text-decoration-color: #00af00\">176</span> │ dense_2[<span style=\"color: #00af00; text-decoration-color: #00af00\">0</span>][<span style=\"color: #00af00; text-decoration-color: #00af00\">0</span>]          │\n",
              "├───────────────────────────┼────────────────────────┼────────────────┼────────────────────────┤\n",
              "│ dense_4 (<span style=\"color: #0087ff; text-decoration-color: #0087ff\">Dense</span>)           │ (<span style=\"color: #00d7ff; text-decoration-color: #00d7ff\">None</span>, <span style=\"color: #00af00; text-decoration-color: #00af00\">32</span>)             │            <span style=\"color: #00af00; text-decoration-color: #00af00\">544</span> │ dense_3[<span style=\"color: #00af00; text-decoration-color: #00af00\">0</span>][<span style=\"color: #00af00; text-decoration-color: #00af00\">0</span>]          │\n",
              "├───────────────────────────┼────────────────────────┼────────────────┼────────────────────────┤\n",
              "│ dense_5 (<span style=\"color: #0087ff; text-decoration-color: #0087ff\">Dense</span>)           │ (<span style=\"color: #00d7ff; text-decoration-color: #00d7ff\">None</span>, <span style=\"color: #00af00; text-decoration-color: #00af00\">212</span>)            │          <span style=\"color: #00af00; text-decoration-color: #00af00\">6,996</span> │ dense_4[<span style=\"color: #00af00; text-decoration-color: #00af00\">0</span>][<span style=\"color: #00af00; text-decoration-color: #00af00\">0</span>]          │\n",
              "├───────────────────────────┼────────────────────────┼────────────────┼────────────────────────┤\n",
              "│ concatenate_1             │ (<span style=\"color: #00d7ff; text-decoration-color: #00d7ff\">None</span>, <span style=\"color: #00af00; text-decoration-color: #00af00\">424</span>)            │              <span style=\"color: #00af00; text-decoration-color: #00af00\">0</span> │ dense_5[<span style=\"color: #00af00; text-decoration-color: #00af00\">0</span>][<span style=\"color: #00af00; text-decoration-color: #00af00\">0</span>],         │\n",
              "│ (<span style=\"color: #0087ff; text-decoration-color: #0087ff\">Concatenate</span>)             │                        │                │ concatenate[<span style=\"color: #00af00; text-decoration-color: #00af00\">0</span>][<span style=\"color: #00af00; text-decoration-color: #00af00\">0</span>]      │\n",
              "├───────────────────────────┼────────────────────────┼────────────────┼────────────────────────┤\n",
              "│ dense_6 (<span style=\"color: #0087ff; text-decoration-color: #0087ff\">Dense</span>)           │ (<span style=\"color: #00d7ff; text-decoration-color: #00d7ff\">None</span>, <span style=\"color: #00af00; text-decoration-color: #00af00\">32</span>)             │         <span style=\"color: #00af00; text-decoration-color: #00af00\">13,600</span> │ concatenate_1[<span style=\"color: #00af00; text-decoration-color: #00af00\">0</span>][<span style=\"color: #00af00; text-decoration-color: #00af00\">0</span>]    │\n",
              "├───────────────────────────┼────────────────────────┼────────────────┼────────────────────────┤\n",
              "│ dense_7 (<span style=\"color: #0087ff; text-decoration-color: #0087ff\">Dense</span>)           │ (<span style=\"color: #00d7ff; text-decoration-color: #00d7ff\">None</span>, <span style=\"color: #00af00; text-decoration-color: #00af00\">16</span>)             │            <span style=\"color: #00af00; text-decoration-color: #00af00\">528</span> │ dense_6[<span style=\"color: #00af00; text-decoration-color: #00af00\">0</span>][<span style=\"color: #00af00; text-decoration-color: #00af00\">0</span>]          │\n",
              "├───────────────────────────┼────────────────────────┼────────────────┼────────────────────────┤\n",
              "│ step (<span style=\"color: #0087ff; text-decoration-color: #0087ff\">InputLayer</span>)         │ (<span style=\"color: #00d7ff; text-decoration-color: #00d7ff\">None</span>, <span style=\"color: #00af00; text-decoration-color: #00af00\">1</span>)              │              <span style=\"color: #00af00; text-decoration-color: #00af00\">0</span> │ -                      │\n",
              "├───────────────────────────┼────────────────────────┼────────────────┼────────────────────────┤\n",
              "│ dense_8 (<span style=\"color: #0087ff; text-decoration-color: #0087ff\">Dense</span>)           │ (<span style=\"color: #00d7ff; text-decoration-color: #00d7ff\">None</span>, <span style=\"color: #00af00; text-decoration-color: #00af00\">1</span>)              │             <span style=\"color: #00af00; text-decoration-color: #00af00\">17</span> │ dense_7[<span style=\"color: #00af00; text-decoration-color: #00af00\">0</span>][<span style=\"color: #00af00; text-decoration-color: #00af00\">0</span>]          │\n",
              "└───────────────────────────┴────────────────────────┴────────────────┴────────────────────────┘\n",
              "</pre>\n"
            ]
          },
          "metadata": {}
        },
        {
          "output_type": "display_data",
          "data": {
            "text/plain": [
              "\u001b[1m Total params: \u001b[0m\u001b[38;5;34m29,375\u001b[0m (114.75 KB)\n"
            ],
            "text/html": [
              "<pre style=\"white-space:pre;overflow-x:auto;line-height:normal;font-family:Menlo,'DejaVu Sans Mono',consolas,'Courier New',monospace\"><span style=\"font-weight: bold\"> Total params: </span><span style=\"color: #00af00; text-decoration-color: #00af00\">29,375</span> (114.75 KB)\n",
              "</pre>\n"
            ]
          },
          "metadata": {}
        },
        {
          "output_type": "display_data",
          "data": {
            "text/plain": [
              "\u001b[1m Trainable params: \u001b[0m\u001b[38;5;34m29,375\u001b[0m (114.75 KB)\n"
            ],
            "text/html": [
              "<pre style=\"white-space:pre;overflow-x:auto;line-height:normal;font-family:Menlo,'DejaVu Sans Mono',consolas,'Courier New',monospace\"><span style=\"font-weight: bold\"> Trainable params: </span><span style=\"color: #00af00; text-decoration-color: #00af00\">29,375</span> (114.75 KB)\n",
              "</pre>\n"
            ]
          },
          "metadata": {}
        },
        {
          "output_type": "display_data",
          "data": {
            "text/plain": [
              "\u001b[1m Non-trainable params: \u001b[0m\u001b[38;5;34m0\u001b[0m (0.00 B)\n"
            ],
            "text/html": [
              "<pre style=\"white-space:pre;overflow-x:auto;line-height:normal;font-family:Menlo,'DejaVu Sans Mono',consolas,'Courier New',monospace\"><span style=\"font-weight: bold\"> Non-trainable params: </span><span style=\"color: #00af00; text-decoration-color: #00af00\">0</span> (0.00 B)\n",
              "</pre>\n"
            ]
          },
          "metadata": {}
        }
      ]
    },
    {
      "cell_type": "code",
      "source": [
        "tf.keras.utils.plot_model(model, rankdir=\"LR\")"
      ],
      "metadata": {
        "colab": {
          "base_uri": "https://localhost:8080/",
          "height": 445
        },
        "id": "bqmzkqX1kGOy",
        "executionInfo": {
          "status": "ok",
          "timestamp": 1729214205369,
          "user_tz": 240,
          "elapsed": 1051,
          "user": {
            "displayName": "",
            "userId": ""
          }
        },
        "outputId": "58f030ad-061e-413e-9c2c-d4ada4c2eadf"
      },
      "id": "bqmzkqX1kGOy",
      "execution_count": 34,
      "outputs": [
        {
          "output_type": "execute_result",
          "data": {
            "image/png": "[encoded data removed]",
            "text/plain": [
              "<IPython.core.display.Image object>"
            ]
          },
          "metadata": {},
          "execution_count": 34
        }
      ]
    },
    {
      "cell_type": "code",
      "source": [
        "train_ds = tf.data.Dataset.from_tensor_slices((dict(X_train), y_train)).batch(100)\n",
        "valid_ds = tf.data.Dataset.from_tensor_slices((dict(X_eval), y_eval)).batch(1000)\n",
        "\n",
        "history = model.fit(\n",
        "    x=train_ds,\n",
        "    epochs=25,\n",
        "    verbose=1\n",
        ")\n",
        "\n",
        "model.evaluate(x=valid_ds)"
      ],
      "metadata": {
        "colab": {
          "base_uri": "https://localhost:8080/"
        },
        "id": "STKTOsPK3YVY",
        "executionInfo": {
          "status": "ok",
          "timestamp": 1729214238173,
          "user_tz": 240,
          "elapsed": 31529,
          "user": {
            "displayName": "",
            "userId": ""
          }
        },
        "outputId": "61fb5560-412d-4f3f-af0c-1d03de4053e3"
      },
      "id": "STKTOsPK3YVY",
      "execution_count": 35,
      "outputs": [
        {
          "output_type": "stream",
          "name": "stdout",
          "text": [
            "Epoch 1/25\n",
            "\u001b[1m282/282\u001b[0m \u001b[32m━━━━━━━━━━━━━━━━━━━━\u001b[0m\u001b[37m\u001b[0m \u001b[1m4s\u001b[0m 4ms/step - auc: 0.0068 - binary_accuracy: 0.9480 - loss: 0.0236 - precision: 0.0037 - recall: 0.0532\n",
            "Epoch 2/25\n",
            "\u001b[1m282/282\u001b[0m \u001b[32m━━━━━━━━━━━━━━━━━━━━\u001b[0m\u001b[37m\u001b[0m \u001b[1m1s\u001b[0m 4ms/step - auc: 0.3022 - binary_accuracy: 0.9962 - loss: 0.0014 - precision: 0.0000e+00 - recall: 0.0000e+00\n",
            "Epoch 3/25\n",
            "\u001b[1m282/282\u001b[0m \u001b[32m━━━━━━━━━━━━━━━━━━━━\u001b[0m\u001b[37m\u001b[0m \u001b[1m1s\u001b[0m 4ms/step - auc: 0.3831 - binary_accuracy: 0.9962 - loss: 0.0012 - precision: 0.3619 - recall: 0.0106\n",
            "Epoch 4/25\n",
            "\u001b[1m282/282\u001b[0m \u001b[32m━━━━━━━━━━━━━━━━━━━━\u001b[0m\u001b[37m\u001b[0m \u001b[1m1s\u001b[0m 4ms/step - auc: 0.4512 - binary_accuracy: 0.9962 - loss: 0.0011 - precision: 0.4153 - recall: 0.0230\n",
            "Epoch 5/25\n",
            "\u001b[1m282/282\u001b[0m \u001b[32m━━━━━━━━━━━━━━━━━━━━\u001b[0m\u001b[37m\u001b[0m \u001b[1m1s\u001b[0m 3ms/step - auc: 0.4975 - binary_accuracy: 0.9966 - loss: 0.0011 - precision: 0.8015 - recall: 0.1276\n",
            "Epoch 6/25\n",
            "\u001b[1m282/282\u001b[0m \u001b[32m━━━━━━━━━━━━━━━━━━━━\u001b[0m\u001b[37m\u001b[0m \u001b[1m1s\u001b[0m 3ms/step - auc: 0.5458 - binary_accuracy: 0.9967 - loss: 0.0010 - precision: 0.8294 - recall: 0.1707\n",
            "Epoch 7/25\n",
            "\u001b[1m282/282\u001b[0m \u001b[32m━━━━━━━━━━━━━━━━━━━━\u001b[0m\u001b[37m\u001b[0m \u001b[1m1s\u001b[0m 3ms/step - auc: 0.5773 - binary_accuracy: 0.9969 - loss: 9.5771e-04 - precision: 0.8271 - recall: 0.2276\n",
            "Epoch 8/25\n",
            "\u001b[1m282/282\u001b[0m \u001b[32m━━━━━━━━━━━━━━━━━━━━\u001b[0m\u001b[37m\u001b[0m \u001b[1m1s\u001b[0m 4ms/step - auc: 0.6008 - binary_accuracy: 0.9973 - loss: 9.1376e-04 - precision: 0.8011 - recall: 0.3473\n",
            "Epoch 9/25\n",
            "\u001b[1m282/282\u001b[0m \u001b[32m━━━━━━━━━━━━━━━━━━━━\u001b[0m\u001b[37m\u001b[0m \u001b[1m1s\u001b[0m 4ms/step - auc: 0.6353 - binary_accuracy: 0.9977 - loss: 8.5817e-04 - precision: 0.8303 - recall: 0.4544\n",
            "Epoch 10/25\n",
            "\u001b[1m282/282\u001b[0m \u001b[32m━━━━━━━━━━━━━━━━━━━━\u001b[0m\u001b[37m\u001b[0m \u001b[1m1s\u001b[0m 3ms/step - auc: 0.6723 - binary_accuracy: 0.9979 - loss: 8.0719e-04 - precision: 0.8309 - recall: 0.4962\n",
            "Epoch 11/25\n",
            "\u001b[1m282/282\u001b[0m \u001b[32m━━━━━━━━━━━━━━━━━━━━\u001b[0m\u001b[37m\u001b[0m \u001b[1m1s\u001b[0m 4ms/step - auc: 0.7144 - binary_accuracy: 0.9982 - loss: 7.6919e-04 - precision: 0.8346 - recall: 0.6067\n",
            "Epoch 12/25\n",
            "\u001b[1m282/282\u001b[0m \u001b[32m━━━━━━━━━━━━━━━━━━━━\u001b[0m\u001b[37m\u001b[0m \u001b[1m1s\u001b[0m 4ms/step - auc: 0.7369 - binary_accuracy: 0.9984 - loss: 7.1513e-04 - precision: 0.8469 - recall: 0.6526\n",
            "Epoch 13/25\n",
            "\u001b[1m282/282\u001b[0m \u001b[32m━━━━━━━━━━━━━━━━━━━━\u001b[0m\u001b[37m\u001b[0m \u001b[1m1s\u001b[0m 4ms/step - auc: 0.7548 - binary_accuracy: 0.9985 - loss: 6.7375e-04 - precision: 0.8527 - recall: 0.6748\n",
            "Epoch 14/25\n",
            "\u001b[1m282/282\u001b[0m \u001b[32m━━━━━━━━━━━━━━━━━━━━\u001b[0m\u001b[37m\u001b[0m \u001b[1m1s\u001b[0m 4ms/step - auc: 0.7805 - binary_accuracy: 0.9985 - loss: 6.3054e-04 - precision: 0.8477 - recall: 0.6852\n",
            "Epoch 15/25\n",
            "\u001b[1m282/282\u001b[0m \u001b[32m━━━━━━━━━━━━━━━━━━━━\u001b[0m\u001b[37m\u001b[0m \u001b[1m1s\u001b[0m 4ms/step - auc: 0.7873 - binary_accuracy: 0.9987 - loss: 6.0165e-04 - precision: 0.8677 - recall: 0.7218\n",
            "Epoch 16/25\n",
            "\u001b[1m282/282\u001b[0m \u001b[32m━━━━━━━━━━━━━━━━━━━━\u001b[0m\u001b[37m\u001b[0m \u001b[1m1s\u001b[0m 3ms/step - auc: 0.7929 - binary_accuracy: 0.9988 - loss: 5.7600e-04 - precision: 0.8898 - recall: 0.7218\n",
            "Epoch 17/25\n",
            "\u001b[1m282/282\u001b[0m \u001b[32m━━━━━━━━━━━━━━━━━━━━\u001b[0m\u001b[37m\u001b[0m \u001b[1m1s\u001b[0m 4ms/step - auc: 0.7979 - binary_accuracy: 0.9989 - loss: 5.5217e-04 - precision: 0.8989 - recall: 0.7480\n",
            "Epoch 18/25\n",
            "\u001b[1m282/282\u001b[0m \u001b[32m━━━━━━━━━━━━━━━━━━━━\u001b[0m\u001b[37m\u001b[0m \u001b[1m1s\u001b[0m 3ms/step - auc: 0.8051 - binary_accuracy: 0.9989 - loss: 5.2442e-04 - precision: 0.9073 - recall: 0.7480\n",
            "Epoch 19/25\n",
            "\u001b[1m282/282\u001b[0m \u001b[32m━━━━━━━━━━━━━━━━━━━━\u001b[0m\u001b[37m\u001b[0m \u001b[1m1s\u001b[0m 4ms/step - auc: 0.8105 - binary_accuracy: 0.9991 - loss: 5.0195e-04 - precision: 0.9551 - recall: 0.7480\n",
            "Epoch 20/25\n",
            "\u001b[1m282/282\u001b[0m \u001b[32m━━━━━━━━━━━━━━━━━━━━\u001b[0m\u001b[37m\u001b[0m \u001b[1m1s\u001b[0m 4ms/step - auc: 0.8160 - binary_accuracy: 0.9991 - loss: 4.8681e-04 - precision: 0.9551 - recall: 0.7480\n",
            "Epoch 21/25\n",
            "\u001b[1m282/282\u001b[0m \u001b[32m━━━━━━━━━━━━━━━━━━━━\u001b[0m\u001b[37m\u001b[0m \u001b[1m1s\u001b[0m 5ms/step - auc: 0.8180 - binary_accuracy: 0.9991 - loss: 4.7262e-04 - precision: 0.9557 - recall: 0.7485\n",
            "Epoch 22/25\n",
            "\u001b[1m282/282\u001b[0m \u001b[32m━━━━━━━━━━━━━━━━━━━━\u001b[0m\u001b[37m\u001b[0m \u001b[1m2s\u001b[0m 4ms/step - auc: 0.8218 - binary_accuracy: 0.9991 - loss: 4.5320e-04 - precision: 0.9559 - recall: 0.7622\n",
            "Epoch 23/25\n",
            "\u001b[1m282/282\u001b[0m \u001b[32m━━━━━━━━━━━━━━━━━━━━\u001b[0m\u001b[37m\u001b[0m \u001b[1m1s\u001b[0m 4ms/step - auc: 0.8246 - binary_accuracy: 0.9991 - loss: 4.4123e-04 - precision: 0.9559 - recall: 0.7622\n",
            "Epoch 24/25\n",
            "\u001b[1m282/282\u001b[0m \u001b[32m━━━━━━━━━━━━━━━━━━━━\u001b[0m\u001b[37m\u001b[0m \u001b[1m1s\u001b[0m 4ms/step - auc: 0.8282 - binary_accuracy: 0.9991 - loss: 4.3030e-04 - precision: 0.9559 - recall: 0.7622\n",
            "Epoch 25/25\n",
            "\u001b[1m282/282\u001b[0m \u001b[32m━━━━━━━━━━━━━━━━━━━━\u001b[0m\u001b[37m\u001b[0m \u001b[1m1s\u001b[0m 4ms/step - auc: 0.8325 - binary_accuracy: 0.9991 - loss: 4.2112e-04 - precision: 0.9559 - recall: 0.7622\n",
            "\u001b[1m4/4\u001b[0m \u001b[32m━━━━━━━━━━━━━━━━━━━━\u001b[0m\u001b[37m\u001b[0m \u001b[1m1s\u001b[0m 11ms/step - auc: 0.6304 - binary_accuracy: 0.9960 - loss: 0.0019 - precision: 0.4875 - recall: 0.5711 \n"
          ]
        },
        {
          "output_type": "execute_result",
          "data": {
            "text/plain": [
              "[0.0017144418088719249,\n",
              " 0.996302604675293,\n",
              " 0.5625,\n",
              " 0.6000000238418579,\n",
              " 0.636036217212677]"
            ]
          },
          "metadata": {},
          "execution_count": 35
        }
      ]
    },
    {
      "cell_type": "code",
      "source": [
        "model.export('./model')"
      ],
      "metadata": {
        "colab": {
          "base_uri": "https://localhost:8080/"
        },
        "id": "GnWpxcelkTnV",
        "executionInfo": {
          "status": "ok",
          "timestamp": 1728593740384,
          "user_tz": 240,
          "elapsed": 1121,
          "user": {
            "displayName": "",
            "userId": ""
          }
        },
        "outputId": "e23df123-be17-4cb6-e888-f95da189505b"
      },
      "id": "GnWpxcelkTnV",
      "execution_count": null,
      "outputs": [
        {
          "output_type": "stream",
          "name": "stdout",
          "text": [
            "Saved artifact at './model'. The following endpoints are available:\n",
            "\n",
            "* Endpoint 'serve'\n",
            "  args_0 (POSITIONAL_ONLY): List[TensorSpec(shape=(None, 1), dtype=tf.string, name='action'), TensorSpec(shape=(None, 1), dtype=tf.int64, name='amount'), TensorSpec(shape=(None, 1), dtype=tf.string, name='idDest'), TensorSpec(shape=(None, 1), dtype=tf.string, name='idOrig'), TensorSpec(shape=(None, 1), dtype=tf.int64, name='isUnauthorizedOverdraft'), TensorSpec(shape=(None, 1), dtype=tf.int64, name='newBalanceDest'), TensorSpec(shape=(None, 1), dtype=tf.int64, name='newBalanceOrig'), TensorSpec(shape=(None, 1), dtype=tf.int64, name='oldBalanceDest'), TensorSpec(shape=(None, 1), dtype=tf.int64, name='oldBalanceOrig'), TensorSpec(shape=(None, 1), dtype=tf.int64, name='step')]\n",
            "Output Type:\n",
            "  TensorSpec(shape=(None, 1), dtype=tf.float32, name=None)\n",
            "Captures:\n",
            "  136284427722368: TensorSpec(shape=(), dtype=tf.resource, name=None)\n",
            "  136284427723952: TensorSpec(shape=(), dtype=tf.int64, name=None)\n",
            "  136287406391536: TensorSpec(shape=(), dtype=tf.resource, name=None)\n",
            "  136284427730464: TensorSpec(shape=(), dtype=tf.resource, name=None)\n",
            "  136284427730640: TensorSpec(shape=(), dtype=tf.resource, name=None)\n",
            "  136284417412256: TensorSpec(shape=(), dtype=tf.resource, name=None)\n",
            "  136284417412784: TensorSpec(shape=(), dtype=tf.resource, name=None)\n",
            "  136284417415072: TensorSpec(shape=(), dtype=tf.resource, name=None)\n",
            "  136284417415600: TensorSpec(shape=(), dtype=tf.resource, name=None)\n",
            "  136284417417888: TensorSpec(shape=(), dtype=tf.resource, name=None)\n",
            "  136284417418416: TensorSpec(shape=(), dtype=tf.resource, name=None)\n",
            "  136284417420704: TensorSpec(shape=(), dtype=tf.resource, name=None)\n",
            "  136284417421232: TensorSpec(shape=(), dtype=tf.resource, name=None)\n",
            "  136284417423520: TensorSpec(shape=(), dtype=tf.resource, name=None)\n",
            "  136284417425104: TensorSpec(shape=(), dtype=tf.resource, name=None)\n",
            "  136284417412960: TensorSpec(shape=(), dtype=tf.resource, name=None)\n",
            "  136284417509856: TensorSpec(shape=(), dtype=tf.resource, name=None)\n",
            "  136284417512320: TensorSpec(shape=(), dtype=tf.resource, name=None)\n",
            "  136284417512848: TensorSpec(shape=(), dtype=tf.resource, name=None)\n",
            "  136284417515136: TensorSpec(shape=(), dtype=tf.resource, name=None)\n"
          ]
        }
      ]
    }
  ],
  "metadata": {
    "kernelspec": {
      "display_name": "Python 3",
      "language": "python",
      "name": "python3"
    },
    "language_info": {
      "codemirror_mode": {
        "name": "ipython",
        "version": 3
      },
      "file_extension": ".py",
      "mimetype": "text/x-python",
      "name": "python",
      "nbconvert_exporter": "python",
      "pygments_lexer": "ipython3",
      "version": "3.10.10"
    },
    "colab": {
      "provenance": [],
      "name": "ML_Fraud_Detection_Experiment"
    }
  },
  "nbformat": 4,
  "nbformat_minor": 5
}